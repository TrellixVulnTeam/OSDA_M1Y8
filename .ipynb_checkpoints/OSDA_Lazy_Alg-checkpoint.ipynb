{
 "cells": [
  {
   "cell_type": "markdown",
   "metadata": {
    "collapsed": true
   },
   "source": [
    "# 1. Dataset information\n",
    "As a part of the course of Ordered Sets in Data Analysis for course project I chose dataset \"Congressional Voting Records Data Set\" from https://archive.ics.uci.edu/ml/datasets/congressional+voting+records.\n",
    "**Number of entities**: 435\n",
    "**Number of attributes**: 16\n",
    "**Missing values**: Yes"
   ]
  },
  {
   "cell_type": "markdown",
   "metadata": {},
   "source": [
    "# 2. Dataset preparation\n",
    "Importing dataset:"
   ]
  },
  {
   "cell_type": "code",
   "execution_count": null,
   "metadata": {
    "pycharm": {
     "is_executing": true
    }
   },
   "outputs": [],
   "source": [
    "import pandas as pd\n",
    "import numpy as np\n",
    "\n",
    "df = pd.read_csv(\n",
    "    filepath_or_buffer=\"http://archive.ics.uci.edu/ml/machine-learning-databases/voting-records/house-votes-84.data\", \n",
    "    header=None, \n",
    "    sep=',')\n",
    "headers = ['target', 1,2,3,4,5,6,7,8,9,10,11,12,13,14,15,16]\n",
    "df.columns= headers"
   ]
  },
  {
   "cell_type": "markdown",
   "metadata": {},
   "source": [
    "Changing string values to categorical variables and deleting rows with NaNs."
   ]
  },
  {
   "cell_type": "code",
   "execution_count": 201,
   "metadata": {},
   "outputs": [
    {
     "name": "stdout",
     "output_type": "stream",
     "text": [
      "<class 'pandas.core.frame.DataFrame'>\n",
      "RangeIndex: 232 entries, 0 to 231\n",
      "Data columns (total 17 columns):\n",
      " #   Column  Non-Null Count  Dtype\n",
      "---  ------  --------------  -----\n",
      " 0   target  232 non-null    bool \n",
      " 1   1       232 non-null    bool \n",
      " 2   2       232 non-null    bool \n",
      " 3   3       232 non-null    bool \n",
      " 4   4       232 non-null    bool \n",
      " 5   5       232 non-null    bool \n",
      " 6   6       232 non-null    bool \n",
      " 7   7       232 non-null    bool \n",
      " 8   8       232 non-null    bool \n",
      " 9   9       232 non-null    bool \n",
      " 10  10      232 non-null    bool \n",
      " 11  11      232 non-null    bool \n",
      " 12  12      232 non-null    bool \n",
      " 13  13      232 non-null    bool \n",
      " 14  14      232 non-null    bool \n",
      " 15  15      232 non-null    bool \n",
      " 16  16      232 non-null    bool \n",
      "dtypes: bool(17)\n",
      "memory usage: 3.9 KB\n"
     ]
    }
   ],
   "source": [
    "df = df.replace('?', np.nan)\n",
    "df = df.replace('y', True)\n",
    "df = df.replace('n', False)\n",
    "df = df.dropna().reset_index(drop=True)\n",
    "df = df.replace('democrat', True)\n",
    "df = df.replace('republican', False)\n",
    "df = df[headers].astype('bool')\n",
    "df.info()"
   ]
  },
  {
   "cell_type": "markdown",
   "metadata": {},
   "source": [
    "Saving prepared dataset."
   ]
  },
  {
   "cell_type": "code",
   "execution_count": 202,
   "metadata": {},
   "outputs": [],
   "source": [
    "df.to_csv('house_votes.csv',index=False)"
   ]
  },
  {
   "cell_type": "markdown",
   "metadata": {},
   "source": [
    "# 3. Cross Validation\n",
    "Cross validating new dataset into 10 train and test datasets."
   ]
  },
  {
   "cell_type": "code",
   "execution_count": 203,
   "metadata": {},
   "outputs": [],
   "source": [
    "from sklearn import model_selection\n",
    "import os\n",
    "import sys\n",
    "\n",
    "df_prep = pd.read_csv('house_votes.csv')\n",
    "kf = model_selection.KFold(n_splits=10, shuffle=True, random_state=None)\n",
    "kf.get_n_splits(df_prep)\n",
    "k = 1\n",
    "\n",
    "for train_index, test_index in kf.split(df_prep):\n",
    "    df_prep.iloc[train_index].to_csv('train'+str(k)+'.csv',index=False)\n",
    "    df_prep.iloc[test_index].to_csv('test'+str(k)+'.csv',index=False)\n",
    "    k += 1"
   ]
  },
  {
   "cell_type": "markdown",
   "metadata": {},
   "source": [
    "# 4. Algorithms"
   ]
  },
  {
   "cell_type": "markdown",
   "metadata": {},
   "source": [
    "Preprocessing data with plus, minus context and test data"
   ]
  },
  {
   "cell_type": "code",
   "execution_count": 4,
   "metadata": {},
   "outputs": [],
   "source": [
    "# убрать\n",
    "train = pd.read_csv('train1.csv')\n",
    "test = pd.read_csv('test1.csv')\n",
    "\n",
    "plus_context = train[train['target'] == True]\n",
    "minus_context = train[train['target'] == False]\n",
    "\n",
    "X_plus = plus_context.drop('target', axis = 1).to_dict('records')\n",
    "X_minus = minus_context.drop('target', axis = 1).to_dict('records')\n",
    "X_test = test.drop('target', axis = 1).to_dict('records')\n",
    "y_test = test['target'].tolist()"
   ]
  },
  {
   "cell_type": "markdown",
   "metadata": {},
   "source": [
    "Auxiliary functions:"
   ]
  },
  {
   "cell_type": "code",
   "execution_count": null,
   "metadata": {},
   "outputs": [],
   "source": [
    "from sklearn import model_selection\n",
    "import os\n",
    "import sys\n",
    "def cross_validation(path):\n",
    "    '''\n",
    "    \n",
    "    '''\n",
    "    df_prep = pd.read_csv(path)\n",
    "    kf = model_selection.KFold(n_splits=10, shuffle=True, random_state=None)\n",
    "    kf.get_n_splits(df_prep)\n",
    "    k = 1\n",
    "\n",
    "    for train_index, test_index in kf.split(df_prep):\n",
    "        df_prep.iloc[train_index].to_csv('train'+str(k)+'.csv',index=False)\n",
    "        df_prep.iloc[test_index].to_csv('test'+str(k)+'.csv',index=False)\n",
    "        k += 1"
   ]
  },
  {
   "cell_type": "code",
   "execution_count": 3,
   "metadata": {},
   "outputs": [],
   "source": [
    "def data_preprocessing(path_train, path_test, target_column_name = 'target'):\n",
    "    '''\n",
    "    input:\n",
    "    path_train - path to train#.csv where # is a number of file. Dataframe\n",
    "    path_test - path to test#.csv where # is a number of file. Dataframe\n",
    "    target_column_name - name of target feature in selected dataframe. String\n",
    "    \n",
    "    output:\n",
    "    X_plus - plus context of train dataset w/o target. List of dictionaries \n",
    "    X_minus - minus context of train dataset w/o target. List of dictionaries\n",
    "    X_test - test dataset w/ target. List of dictionaries\n",
    "    y_test - list of target features in test dataset\n",
    "    '''\n",
    "    \n",
    "    train = pd.read_csv(path_train)\n",
    "    test = pd.read_csv(path_test)\n",
    "\n",
    "    plus_context = train[train[target_column_name] == True]\n",
    "    minus_context = train[train[target_column_name] == False]\n",
    "\n",
    "    X_plus = plus_context.drop(target_column_name, axis = 1).to_dict('records')\n",
    "    X_minus = minus_context.drop(target_column_name, axis = 1).to_dict('records')\n",
    "    X_test = test.drop(target_column_name, axis = 1).to_dict('records')\n",
    "    y_test = test[target_column_name].tolist()\n",
    "    \n",
    "    return X_plus, X_minus, X_test, y_test"
   ]
  },
  {
   "cell_type": "code",
   "execution_count": 225,
   "metadata": {},
   "outputs": [],
   "source": [
    "def dict_intersec(dict1, dict2, option='intersec'):\n",
    "    '''\n",
    "    \n",
    "    '''\n",
    "    if option == 'intersec':\n",
    "        return dict(set(dict1.items()) & set(dict2.items()))\n",
    "    if option == 'subset':\n",
    "        return dict1.items() <= dict2.items()"
   ]
  },
  {
   "cell_type": "markdown",
   "metadata": {},
   "source": [
    "## Algorithm1:"
   ]
  },
  {
   "cell_type": "code",
   "execution_count": 307,
   "metadata": {},
   "outputs": [],
   "source": [
    "import random\n",
    "\n",
    "def Alg_1(X_plus, X_minus, X_test, threshold):\n",
    "    norm_plus = (len(X_plus)+len(X_minus))//len(X_plus)\n",
    "    norm_minus = (len(X_plus)+len(X_minus))//len(X_minus)\n",
    "    y_pred = []\n",
    "    for ent_test in X_test:\n",
    "        labels = {'plus':0, 'minus':0}\n",
    "        for ent_plus in X_plus:\n",
    "            counter_plus = 0 \n",
    "            intersec_plus = dict_intersec(ent_test, ent_plus, option='intersec')\n",
    "            for ent_minus in X_minus:\n",
    "                if dict_intersec(intersec_plus, ent_minus, option='subset'):\n",
    "                    counter_plus += 1\n",
    "            if counter_plus < threshold:\n",
    "                labels['plus'] += 1\n",
    "        for ent_minus in X_minus:\n",
    "            counter_minus = 0\n",
    "            intersec_minus = dict_intersec(ent_test, ent_minus, option='intersec')\n",
    "            for ent_plus in X_plus:\n",
    "                if dict_intersec(intersec_minus, ent_plus, option='subset'):\n",
    "                    counter_minus += 1\n",
    "            if counter_minus < threshold:\n",
    "                labels['minus'] += 1\n",
    "        \n",
    "        labels['plus'] = labels['plus']*norm_plus\n",
    "        labels['minus'] = labels['minus']*norm_minus\n",
    "        if labels['plus'] > labels['minus']:\n",
    "            y_pred.append(True)\n",
    "        elif labels['plus'] < labels['minus']:\n",
    "            y_pred.append(False)\n",
    "        else:\n",
    "            y_pred.append(bool(random.getrandbits(1)))\n",
    "    return y_pred"
   ]
  },
  {
   "cell_type": "markdown",
   "metadata": {},
   "source": [
    "Testing:"
   ]
  },
  {
   "cell_type": "code",
   "execution_count": 308,
   "metadata": {},
   "outputs": [
    {
     "name": "stdout",
     "output_type": "stream",
     "text": [
      "Accuracy score: 0.83\n",
      "Roc AUC Score: 0.88\n",
      "Precision Score: 1.00\n",
      "Recall Score: 0.75\n"
     ]
    }
   ],
   "source": [
    "from sklearn.metrics import accuracy_score\n",
    "from sklearn.metrics import roc_auc_score\n",
    "from sklearn.metrics import precision_score\n",
    "from sklearn.metrics import recall_score\n",
    "\n",
    "y_pred_np = np.array(Alg_1(X_plus, X_minus, X_test, threshold=2))\n",
    "y_test_np = np.array(y_test)\n",
    "\n",
    "print('Accuracy score: {:.2f}'.format(accuracy_score(y_test_np, y_pred_np)))\n",
    "print('Roc AUC Score: {:.2f}'.format(roc_auc_score(y_test_np, y_pred_np)))\n",
    "print('Precision Score: {:.2f}'.format(precision_score(y_test_np, y_pred_np)))\n",
    "print('Recall Score: {:.2f}'.format(recall_score(y_test_np, y_pred_np)))"
   ]
  },
  {
   "cell_type": "markdown",
   "metadata": {},
   "source": [
    "Another dataset:"
   ]
  },
  {
   "cell_type": "code",
   "execution_count": 309,
   "metadata": {},
   "outputs": [],
   "source": [
    "ttt_train = pd.read_csv('ttt_dataset/ttt_train1.txt')\n",
    "ttt_test = pd.read_csv('ttt_dataset/ttt_test1.txt')\n",
    "\n",
    "ttt_train = ttt_train.replace('positive', True)\n",
    "ttt_train = ttt_train.replace('negative', False)\n",
    "\n",
    "ttt_test = ttt_test.replace('positive', True)\n",
    "ttt_test = ttt_test.replace('negative', False)\n",
    "\n",
    "ttt_train = pd.get_dummies(ttt_train, \n",
    "                           columns = ['V1','V2','V3','V4','V5','V6','V7','V8','V9'])\n",
    "\n",
    "ttt_test = pd.get_dummies(ttt_test, \n",
    "                           columns = ['V1','V2','V3','V4','V5','V6','V7','V8','V9'])\n",
    "\n",
    "ttt_plus_context = ttt_train[ttt_train['V10'] == True]\n",
    "ttt_minus_context = ttt_train[ttt_train['V10'] == False]\n",
    "\n",
    "ttt_X_plus = ttt_plus_context.drop('V10', axis = 1).to_dict('records')\n",
    "ttt_X_minus = ttt_minus_context.drop('V10', axis = 1).to_dict('records')\n",
    "ttt_X_test = ttt_test.drop('V10', axis = 1).to_dict('records')\n",
    "ttt_y_test = ttt_test['V10'].tolist()"
   ]
  },
  {
   "cell_type": "code",
   "execution_count": 324,
   "metadata": {},
   "outputs": [
    {
     "name": "stdout",
     "output_type": "stream",
     "text": [
      "Accuracy score: 0.86\n",
      "Roc AUC Score: 0.83\n",
      "Precision Score: 0.88\n",
      "Recall Score: 0.92\n"
     ]
    }
   ],
   "source": [
    "y_pred_np = np.array(Alg_1(ttt_X_plus, ttt_X_minus, ttt_X_test, threshold=1))\n",
    "y_test_np = np.array(ttt_y_test)\n",
    "print('Accuracy score: {:.2f}'.format(accuracy_score(y_test_np, y_pred_np)))\n",
    "print('Roc AUC Score: {:.2f}'.format(roc_auc_score(y_test_np, y_pred_np)))\n",
    "print('Precision Score: {:.2f}'.format(precision_score(y_test_np, y_pred_np)))\n",
    "print('Recall Score: {:.2f}'.format(recall_score(y_test_np, y_pred_np)))"
   ]
  },
  {
   "cell_type": "markdown",
   "metadata": {},
   "source": [
    "# Plotting"
   ]
  },
  {
   "cell_type": "code",
   "execution_count": 316,
   "metadata": {},
   "outputs": [],
   "source": [
    "import matplotlib.pyplot as plt\n",
    "\n",
    "acc_arr = []\n",
    "auc_arr = []\n",
    "\n",
    "for i in range(1,10):\n",
    "    y_pred_np_new = np.array(Alg_1(ttt_X_plus, ttt_X_minus, ttt_X_test, threshold=i))\n",
    "    y_test_np_new = np.array(ttt_y_test)\n",
    "    acc_arr.append(accuracy_score(y_test_np_new, y_pred_np_new))\n",
    "    auc_arr.append(roc_auc_score(y_test_np_new, y_pred_np_new))"
   ]
  },
  {
   "cell_type": "code",
   "execution_count": 321,
   "metadata": {},
   "outputs": [],
   "source": [
    "plot_list = []\n",
    "for i in range(1,10):\n",
    "    plot_list.append(i)"
   ]
  },
  {
   "cell_type": "code",
   "execution_count": 323,
   "metadata": {},
   "outputs": [
    {
     "data": {
      "image/png": "[encoded data removed]",
      "text/plain": [
       "<Figure size 432x288 with 1 Axes>"
      ]
     },
     "metadata": {
      "needs_background": "light"
     },
     "output_type": "display_data"
    }
   ],
   "source": [
    "plt.plot(plot_list, acc_arr)\n",
    "plt.plot(plot_list, auc_arr)\n",
    "plt.grid()\n",
    "plt.show()"
   ]
  },
  {
   "cell_type": "markdown",
   "metadata": {},
   "source": [
    "# Data preparation"
   ]
  },
  {
   "cell_type": "code",
   "execution_count": null,
   "metadata": {},
   "outputs": [],
   "source": [
    "def "
   ]
  }
 ],
 "metadata": {
  "kernelspec": {
   "display_name": "Python 3",
   "language": "python",
   "name": "python3"
  },
  "language_info": {
   "codemirror_mode": {
    "name": "ipython",
    "version": 3
   },
   "file_extension": ".py",
   "mimetype": "text/x-python",
   "name": "python",
   "nbconvert_exporter": "python",
   "pygments_lexer": "ipython3",
   "version": "3.8.5"
  }
 },
 "nbformat": 4,
 "nbformat_minor": 1
}
