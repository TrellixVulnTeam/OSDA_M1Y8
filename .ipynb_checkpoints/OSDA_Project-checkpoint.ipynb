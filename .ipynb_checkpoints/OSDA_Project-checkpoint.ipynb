{
 "cells": [
  {
   "cell_type": "markdown",
   "metadata": {},
   "source": [
    "# 1. Datasets information\n",
    "**Dataset**: 1   \n",
    "**Name**: \"Congressional Voting Records Data Set\"  \n",
    "**Link**: https://archive.ics.uci.edu/ml/datasets/congressional+voting+records    \n",
    "**Number of instances**: 435  \n",
    "**Number of attributes**: 16  \n",
    "**Missing values**: Yes  \n",
    "\n",
    "**Dataset**: 2   \n",
    "**Name**: \"Tic-Tac-Toe Endgame Data Set\"  \n",
    "**Link**: https://archive.ics.uci.edu/ml/datasets/Tic-Tac-Toe+Endgame  \n",
    "**Number of instances**: 958     \n",
    "**Number of attributes**: 27   \n",
    "**Missing values**: No  "
   ]
  },
  {
   "cell_type": "markdown",
   "metadata": {},
   "source": [
    "# 2. Datasets Normalization"
   ]
  },
  {
   "cell_type": "markdown",
   "metadata": {},
   "source": [
    "**2.1 Importing datasets**"
   ]
  },
  {
   "cell_type": "code",
   "execution_count": null,
   "metadata": {
    "pycharm": {
     "is_executing": true,
     "name": "#%%\n"
    }
   },
   "outputs": [],
   "source": [
    "import pandas as pd\n",
    "import numpy as np\n",
    "\n",
    "# Congressional Voting Records Data Set\n",
    "df_1 = pd.read_csv(\n",
    "    filepath_or_buffer=\"http://archive.ics.uci.edu/ml/machine-learning-databases/voting-records/house-votes-84.data\", \n",
    "    header=None, \n",
    "    sep=',')\n",
    "headers_1 = ['target', 1,2,3,4,5,6,7,8,9,10,11,12,13,14,15,16]\n",
    "df_1.columns= headers_1\n",
    "\n",
    "# Tic-Tac-Toe Endgame Data Set\n",
    "df_2 = pd.read_csv(\n",
    "    filepath_or_buffer=\"https://archive.ics.uci.edu/ml/machine-learning-databases/tic-tac-toe/tic-tac-toe.data\", \n",
    "    header=None, \n",
    "    sep=',')\n",
    "headers_2 = [1,2,3,4,5,6,7,8,9,'target']\n",
    "df_2.columns= headers_2"
   ]
  },
  {
   "cell_type": "markdown",
   "metadata": {},
   "source": [
    "**2.2 Checking unprepared data**"
   ]
  },
  {
   "cell_type": "code",
   "execution_count": 2,
   "metadata": {
    "pycharm": {
     "name": "#%%\n"
    }
   },
   "outputs": [
    {
     "name": "stdout",
     "output_type": "stream",
     "text": [
      "<class 'pandas.core.frame.DataFrame'>\n",
      "RangeIndex: 435 entries, 0 to 434\n",
      "Data columns (total 17 columns):\n",
      " #   Column  Non-Null Count  Dtype \n",
      "---  ------  --------------  ----- \n",
      " 0   target  435 non-null    object\n",
      " 1   1       435 non-null    object\n",
      " 2   2       435 non-null    object\n",
      " 3   3       435 non-null    object\n",
      " 4   4       435 non-null    object\n",
      " 5   5       435 non-null    object\n",
      " 6   6       435 non-null    object\n",
      " 7   7       435 non-null    object\n",
      " 8   8       435 non-null    object\n",
      " 9   9       435 non-null    object\n",
      " 10  10      435 non-null    object\n",
      " 11  11      435 non-null    object\n",
      " 12  12      435 non-null    object\n",
      " 13  13      435 non-null    object\n",
      " 14  14      435 non-null    object\n",
      " 15  15      435 non-null    object\n",
      " 16  16      435 non-null    object\n",
      "dtypes: object(17)\n",
      "memory usage: 28.9+ KB\n",
      "None\n",
      "<class 'pandas.core.frame.DataFrame'>\n",
      "RangeIndex: 958 entries, 0 to 957\n",
      "Data columns (total 10 columns):\n",
      " #   Column  Non-Null Count  Dtype \n",
      "---  ------  --------------  ----- \n",
      " 0   1       958 non-null    object\n",
      " 1   2       958 non-null    object\n",
      " 2   3       958 non-null    object\n",
      " 3   4       958 non-null    object\n",
      " 4   5       958 non-null    object\n",
      " 5   6       958 non-null    object\n",
      " 6   7       958 non-null    object\n",
      " 7   8       958 non-null    object\n",
      " 8   9       958 non-null    object\n",
      " 9   target  958 non-null    object\n",
      "dtypes: object(10)\n",
      "memory usage: 37.5+ KB\n",
      "None\n"
     ]
    }
   ],
   "source": [
    "print(df_1.info())\n",
    "print(df_2.info())"
   ]
  },
  {
   "cell_type": "markdown",
   "metadata": {},
   "source": [
    "**2.3 Preparation of Voting records dataset.**  \n",
    "Changing string values to variables and deleting rows with NaNs."
   ]
  },
  {
   "cell_type": "code",
   "execution_count": 3,
   "metadata": {
    "pycharm": {
     "name": "#%%\n"
    }
   },
   "outputs": [
    {
     "name": "stdout",
     "output_type": "stream",
     "text": [
      "<class 'pandas.core.frame.DataFrame'>\n",
      "RangeIndex: 232 entries, 0 to 231\n",
      "Data columns (total 17 columns):\n",
      " #   Column  Non-Null Count  Dtype\n",
      "---  ------  --------------  -----\n",
      " 0   target  232 non-null    bool \n",
      " 1   1       232 non-null    bool \n",
      " 2   2       232 non-null    bool \n",
      " 3   3       232 non-null    bool \n",
      " 4   4       232 non-null    bool \n",
      " 5   5       232 non-null    bool \n",
      " 6   6       232 non-null    bool \n",
      " 7   7       232 non-null    bool \n",
      " 8   8       232 non-null    bool \n",
      " 9   9       232 non-null    bool \n",
      " 10  10      232 non-null    bool \n",
      " 11  11      232 non-null    bool \n",
      " 12  12      232 non-null    bool \n",
      " 13  13      232 non-null    bool \n",
      " 14  14      232 non-null    bool \n",
      " 15  15      232 non-null    bool \n",
      " 16  16      232 non-null    bool \n",
      "dtypes: bool(17)\n",
      "memory usage: 3.9 KB\n"
     ]
    }
   ],
   "source": [
    "df_1 = df_1.replace('?', np.nan)\n",
    "df_1 = df_1.replace('y', True)\n",
    "df_1 = df_1.replace('n', False)\n",
    "df_1 = df_1.dropna().reset_index(drop=True)\n",
    "df_1 = df_1.replace('democrat', True)\n",
    "df_1 = df_1.replace('republican', False)\n",
    "df_1 = df_1[list(df_1.columns.values)].astype('bool')\n",
    "df_1.info()"
   ]
  },
  {
   "cell_type": "markdown",
   "metadata": {},
   "source": [
    "**2.4 Preparation of Tic-Tac-Toe Dataset**  \n",
    "Getting dummy features from all features and changing string values to bool variables"
   ]
  },
  {
   "cell_type": "code",
   "execution_count": 4,
   "metadata": {
    "pycharm": {
     "name": "#%%\n"
    }
   },
   "outputs": [
    {
     "name": "stdout",
     "output_type": "stream",
     "text": [
      "<class 'pandas.core.frame.DataFrame'>\n",
      "RangeIndex: 958 entries, 0 to 957\n",
      "Data columns (total 28 columns):\n",
      " #   Column  Non-Null Count  Dtype\n",
      "---  ------  --------------  -----\n",
      " 0   target  958 non-null    bool \n",
      " 1   1_b     958 non-null    bool \n",
      " 2   1_o     958 non-null    bool \n",
      " 3   1_x     958 non-null    bool \n",
      " 4   2_b     958 non-null    bool \n",
      " 5   2_o     958 non-null    bool \n",
      " 6   2_x     958 non-null    bool \n",
      " 7   3_b     958 non-null    bool \n",
      " 8   3_o     958 non-null    bool \n",
      " 9   3_x     958 non-null    bool \n",
      " 10  4_b     958 non-null    bool \n",
      " 11  4_o     958 non-null    bool \n",
      " 12  4_x     958 non-null    bool \n",
      " 13  5_b     958 non-null    bool \n",
      " 14  5_o     958 non-null    bool \n",
      " 15  5_x     958 non-null    bool \n",
      " 16  6_b     958 non-null    bool \n",
      " 17  6_o     958 non-null    bool \n",
      " 18  6_x     958 non-null    bool \n",
      " 19  7_b     958 non-null    bool \n",
      " 20  7_o     958 non-null    bool \n",
      " 21  7_x     958 non-null    bool \n",
      " 22  8_b     958 non-null    bool \n",
      " 23  8_o     958 non-null    bool \n",
      " 24  8_x     958 non-null    bool \n",
      " 25  9_b     958 non-null    bool \n",
      " 26  9_o     958 non-null    bool \n",
      " 27  9_x     958 non-null    bool \n",
      "dtypes: bool(28)\n",
      "memory usage: 26.3 KB\n"
     ]
    }
   ],
   "source": [
    "df_2 = df_2.replace('positive', True)\n",
    "df_2 = df_2.replace('negative', False)\n",
    "df_2 = pd.get_dummies(df_2, columns=[1,2,3,4,5,6,7,8,9])\n",
    "df_2 = df_2[list(df_2.columns.values)].astype('bool')\n",
    "df_2.info()"
   ]
  },
  {
   "cell_type": "markdown",
   "metadata": {},
   "source": [
    "**2.5 Saving standartized datasets**"
   ]
  },
  {
   "cell_type": "code",
   "execution_count": 5,
   "metadata": {
    "pycharm": {
     "name": "#%%\n"
    }
   },
   "outputs": [],
   "source": [
    "import os\n",
    "\n",
    "directory = r'C:/Users/Hp/PycharmProjects/OSDA/std_datasets/'\n",
    "df_1.to_csv(os.path.join(directory, r'hv.csv'), index=False)\n",
    "df_2.to_csv(os.path.join(directory, r'ttt.csv'), index=False)\n",
    "\n",
    "# if using .py script\n",
    "# script_dir = os.path.abspath(os.path.dirname(sys.argv[0]) or '.') "
   ]
  },
  {
   "cell_type": "markdown",
   "metadata": {},
   "source": [
    "# 3. Supporting functions"
   ]
  },
  {
   "cell_type": "markdown",
   "metadata": {},
   "source": [
    "**3.1 Cross Validation function**"
   ]
  },
  {
   "cell_type": "code",
   "execution_count": 6,
   "metadata": {
    "pycharm": {
     "name": "#%%\n"
    }
   },
   "outputs": [],
   "source": [
    "from sklearn import model_selection\n",
    "import sys\n",
    "\n",
    "def cross_validation(path_in, path_out, dataset_short_name, n_splits):\n",
    "    \"\"\" Makes cross validation of dataset from selected path in N splits and saves to selected path. \n",
    "   \n",
    "    Parameters\n",
    "    ----------\n",
    "    path_in : str\n",
    "        The path to .csv file with dataset to pass to function\n",
    "    path_out : str\n",
    "        The path to the directory where cross validated dataset will be saved\n",
    "    dataset_short_name : str\n",
    "        The short name of the dataset\n",
    "    n_splits : int\n",
    "        The number of KFolds splits for cross validation\n",
    "    \"\"\"\n",
    "    \n",
    "    df_prep = pd.read_csv(path_in)\n",
    "    kf = model_selection.KFold(n_splits=n_splits, shuffle=True, random_state=None)\n",
    "    kf.get_n_splits(df_prep)\n",
    "    k = 1\n",
    "    \n",
    "    for train_index, test_index in kf.split(df_prep):\n",
    "        df_prep.iloc[train_index].to_csv(os.path.join(path_out, dataset_short_name+'_train_'+str(k)+'.csv'),index=False)\n",
    "        df_prep.iloc[test_index].to_csv(os.path.join(path_out, dataset_short_name+'_test_'+str(k)+'.csv'),index=False)\n",
    "        k += 1\n",
    "        \n",
    "    return 'Cross Validation Completed'"
   ]
  },
  {
   "cell_type": "markdown",
   "metadata": {},
   "source": [
    "**3.2 Data preprocessing**"
   ]
  },
  {
   "cell_type": "code",
   "execution_count": 7,
   "metadata": {
    "pycharm": {
     "name": "#%%\n"
    }
   },
   "outputs": [],
   "source": [
    "def data_preprocessing(path_train, path_test, target_column_name = 'target'):\n",
    "    \"\"\" Makes plus, minus contexts of selected train dataset in list of dictionaries format \n",
    "    and transforms test dataset in list of dictionaries w/o target feature and target feature list.\n",
    "    \n",
    "    If the argument 'target_column_name' isn't passed in, the default 'target' name is used.\n",
    "    \n",
    "    Parameters\n",
    "    ----------\n",
    "    path_train : str\n",
    "        The path to @_train#.csv where # is a number of file and @ is a shortname of dataset\n",
    "    path_test : str\n",
    "        The path to @_test#.csv where # is a number of file and @ is a shortname of dataset\n",
    "    target_column_name : str\n",
    "        The name of target feature in selected dataframe\n",
    "    \"\"\"\n",
    "    \n",
    "    train = pd.read_csv(path_train)\n",
    "    test = pd.read_csv(path_test)\n",
    "\n",
    "    plus_context = train[train[target_column_name] == True]\n",
    "    minus_context = train[train[target_column_name] == False]\n",
    "\n",
    "    X_plus = plus_context.drop(target_column_name, axis = 1).to_dict('records')\n",
    "    X_minus = minus_context.drop(target_column_name, axis = 1).to_dict('records')\n",
    "    X_test = test.drop(target_column_name, axis = 1).to_dict('records')\n",
    "    y_test = test[target_column_name].tolist()\n",
    "    \n",
    "    return X_plus, X_minus, X_test, y_test"
   ]
  },
  {
   "cell_type": "markdown",
   "metadata": {},
   "source": [
    "**3.3 Metrics evaluation**"
   ]
  },
  {
   "cell_type": "code",
   "execution_count": 8,
   "metadata": {
    "pycharm": {
     "name": "#%%\n"
    }
   },
   "outputs": [],
   "source": [
    "from sklearn.metrics import accuracy_score\n",
    "from sklearn.metrics import roc_auc_score\n",
    "from sklearn.metrics import precision_score\n",
    "from sklearn.metrics import recall_score\n",
    "\n",
    "def metrics_test(y_real_list, y_pred_list):\n",
    "    \"\"\" Counts  sklearn.metrics (Accuracy, ROC AUC, Precision and Recall) for real target and its predicted values.\n",
    "    \n",
    "    Parameters\n",
    "    ----------\n",
    "    y_real_list : list\n",
    "        The real target values of dataset\n",
    "    y_pred_list : list\n",
    "        The predicted target values of dataset via some algorithm\n",
    "    \"\"\"\n",
    "    \n",
    "    y_real = np.array(y_real_list)\n",
    "    y_pred = np.array(y_pred_list)\n",
    "    \n",
    "    acc = accuracy_score(y_real, y_pred)\n",
    "    roc_auc = roc_auc_score(y_real, y_pred)\n",
    "    prc = precision_score(y_real, y_pred)\n",
    "    rcl = recall_score(y_real, y_pred)\n",
    "    \n",
    "#     print('Accuracy score: {:.4f}'.format(acc))\n",
    "#     print('Roc AUC Score: {:.4f}'.format(roc_auc))\n",
    "#     print('Precision Score: {:.4f}'.format(prc))\n",
    "#     print('Recall Score: {:.4f}'.format(rcl))\n",
    "    \n",
    "    return acc, roc_auc, prc, rcl"
   ]
  },
  {
   "cell_type": "markdown",
   "metadata": {},
   "source": [
    "**3.4 Supporting functions for algorithms**"
   ]
  },
  {
   "cell_type": "code",
   "execution_count": 9,
   "metadata": {
    "pycharm": {
     "name": "#%%\n"
    }
   },
   "outputs": [],
   "source": [
    "def dict_intersec(dict1, dict2, option='intersec'):\n",
    "    \"\"\"Gets dictionary of intersection or bool of subset  of two dictionaries depending on 'option'\n",
    "    \n",
    "    If the argument 'option' isn't passed in, the default 'intersec' option is used.\n",
    "    \n",
    "    Parameters:\n",
    "    -----------\n",
    "    dict1 : dict\n",
    "        The first dictionary. Its length is less or equal than the length of the second dictionary\n",
    "    dict2 : dict\n",
    "        The second dictionary\n",
    "    option : str\n",
    "        Option 'intersec' or 'subset' \n",
    "    \"\"\"\n",
    "\n",
    "    if option == 'intersec':\n",
    "        return dict(set(dict1.items()) & set(dict2.items()))\n",
    "    if option == 'subset':\n",
    "        return dict1.items() <= dict2.items()\n",
    "    else:\n",
    "        raise ValueError('Unknown option was used.')"
   ]
  },
  {
   "cell_type": "markdown",
   "metadata": {},
   "source": [
    "# 4. Algorithms"
   ]
  },
  {
   "cell_type": "markdown",
   "metadata": {},
   "source": [
    "### Algorithm 1\n",
    "Algorithm based on voting system, where every plus context object votes for plus classification, if its intersection with test object is not a subset(depending on thresholds) of of minus context and vice versa.  \n",
    "Test object classifies positive, if there is more votes for plus classification (and vice versa).  \n",
    "There is one threshold, which controls, how many subsets of plus/minus and test sets intersection can be in minus/plus context."
   ]
  },
  {
   "cell_type": "code",
   "execution_count": 35,
   "metadata": {
    "pycharm": {
     "name": "#%%\n"
    }
   },
   "outputs": [],
   "source": [
    "import random\n",
    "\n",
    "def Alg_1(X_plus, X_minus, X_test, threshold_subset):\n",
    "    \"\"\"Algorithm based on voting system, where every plus context object votes for plus classification, \n",
    "    if its intersection with test object is not a subset(depending on threshold) of of minus context object and vice versa.\n",
    "    Test object classifies positive, if there is more votes for plus classification (and vice versa).\n",
    "\n",
    "    Parameters\n",
    "    ----------\n",
    "    X_plus : list of dict\n",
    "        The plus context of train dataset\n",
    "    X_minus : list of dict\n",
    "        The minus context of train dataset\n",
    "    X_test : list of dict\n",
    "        The test dataset\n",
    "    threshold_subset : int\n",
    "        The limitation threshold for counter of subsets of plus/minus and test sets intersection in minus/plus context \n",
    "    \"\"\"\n",
    "    \n",
    "    norm_plus = (len(X_plus)+len(X_minus))//len(X_plus)\n",
    "    norm_minus = (len(X_plus)+len(X_minus))//len(X_minus)\n",
    "    y_pred = []\n",
    "    random_counter = 0\n",
    "    \n",
    "    for ent_test in X_test:\n",
    "        labels = {'plus':0, 'minus':0}\n",
    "        for ent_plus in X_plus:\n",
    "            counter_plus = 0 \n",
    "            intersec_plus = dict_intersec(ent_test, ent_plus, option='intersec')\n",
    "            for ent_minus in X_minus:\n",
    "                if dict_intersec(intersec_plus, ent_minus, option='subset'):\n",
    "                    counter_plus += 1\n",
    "            if counter_plus <= threshold_subset:\n",
    "                labels['plus'] += 1\n",
    "        for ent_minus in X_minus:\n",
    "            counter_minus = 0\n",
    "            intersec_minus = dict_intersec(ent_test, ent_minus, option='intersec')\n",
    "            for ent_plus in X_plus:\n",
    "                if dict_intersec(intersec_minus, ent_plus, option='subset'):\n",
    "                    counter_minus += 1\n",
    "            if counter_minus <= threshold_subset:\n",
    "                labels['minus'] += 1\n",
    "        \n",
    "        labels['plus'] = labels['plus']*norm_plus\n",
    "        labels['minus'] = labels['minus']*norm_minus\n",
    "        if labels['plus'] > labels['minus']:\n",
    "            y_pred.append(True)\n",
    "        elif labels['plus'] < labels['minus']:\n",
    "            y_pred.append(False)\n",
    "        else:\n",
    "            random_counter += 1\n",
    "            random.seed(1)\n",
    "            y_pred.append(bool(random.getrandbits(1)))\n",
    "            \n",
    "#         if random_counter >= 0.25*len(X_test):\n",
    "#             raise ValueError('Answer is too random')\n",
    "    \n",
    "    randomness = random_counter/len(X_test)\n",
    "    \n",
    "    return y_pred,randomness"
   ]
  },
  {
   "cell_type": "markdown",
   "metadata": {},
   "source": [
    "### Algorithm 2\n",
    "Algorithm based on voting system, where every plus context object votes for plus classification, if there is more its intersections (depending on threshold) with test object than with minus context.  \n",
    "Test object classifies positive, if there is more votes for plus classification (and vice versa).   \n",
    "It has threshold_intersec, which controls, how many elements can be in plus/minus context and test sets intersection.  \n",
    "It is more simple version of Algorithm 1, because it doesn't search subsets in another context."
   ]
  },
  {
   "cell_type": "code",
   "execution_count": 11,
   "metadata": {
    "pycharm": {
     "name": "#%%\n"
    }
   },
   "outputs": [],
   "source": [
    "import warnings\n",
    "\n",
    "def Alg_2(X_plus, X_minus, X_test, threshold_intersec):\n",
    "    \"\"\"Algorithm based on voting system, where every plus context object votes for plus classification, \n",
    "    if there is more its intersections (depending on threshold) with test object than with minus context object.  \n",
    "    Test object classifies positive, if there is more votes for plus classification (and vice versa).\n",
    "    \n",
    "    Parameters\n",
    "    ----------\n",
    "    X_plus : list of dict\n",
    "        The plus context of train dataset\n",
    "    X_minus : list of dict\n",
    "        The minus context of train dataset\n",
    "    X_test : list of dict\n",
    "        The test dataset \n",
    "    threshold_intersec : float\n",
    "        The limitation threshold for counter of elements in plus/minus context and test sets intersection\n",
    "    \"\"\"\n",
    "    \n",
    "    warnings.filterwarnings('ignore')\n",
    "    y_pred = []\n",
    "    random_counter = 0\n",
    "    \n",
    "    for ent_test in X_test:\n",
    "\n",
    "        labels = {'plus' : 0, 'minus' : 0}\n",
    "        \n",
    "        for ent_plus in X_plus:\n",
    "            counter_plus = 0 \n",
    "            intersec_plus = dict_intersec(ent_test, ent_plus, option='intersec')\n",
    "            intersec_plus_len_norm = len(intersec_plus)/len(ent_test)\n",
    "            if intersec_plus_len_norm > threshold_intersec:\n",
    "                labels['plus'] += 1\n",
    "   \n",
    "        for ent_minus in X_minus:\n",
    "            counter_minus = 0\n",
    "            intersec_minus = dict_intersec(ent_test, ent_minus, option='intersec')\n",
    "            intersec_minus_len_norm = len(intersec_minus)/len(ent_test)\n",
    "            if intersec_minus_len_norm > threshold_intersec:\n",
    "                labels['minus'] += 1\n",
    "                \n",
    "        if labels['plus'] > labels['minus']:\n",
    "            y_pred.append(True)\n",
    "        elif labels['plus'] < labels['minus']:\n",
    "            y_pred.append(False)\n",
    "        else:\n",
    "            random_counter += 1\n",
    "            random.seed(1)\n",
    "            y_pred.append(bool(random.getrandbits(1)))\n",
    "            \n",
    "#         if random_counter >= 0.25*len(X_test):\n",
    "#             raise ValueError('Answer is too random')\n",
    "    \n",
    "    randomness = random_counter/len(X_test)\n",
    "    \n",
    "    return y_pred, randomness"
   ]
  },
  {
   "cell_type": "markdown",
   "metadata": {},
   "source": [
    "### Algorithm 3\n",
    "Algorithm based on voting system, where eveery plus context object votes for plus classification, if its intersection(depending on threshold) with test object is not a subset(depending on threshold) of of minus context and vice versa.\n",
    "Test set is True, if there is more votes for plus classification (and vice versa).\n",
    "\n",
    "This algorithm is the same approach, as algorithm 1, but with modification. It has threshold_intersec, which controls, how many elements can be in plus/minus context and test sets intersection."
   ]
  },
  {
   "cell_type": "code",
   "execution_count": 12,
   "metadata": {
    "pycharm": {
     "name": "#%%\n"
    }
   },
   "outputs": [],
   "source": [
    "def Alg_3(X_plus, X_minus, X_test, threshold_subset, threshold_intersec):\n",
    "    \"\"\"Algorithm based on voting system, where eveery plus context object votes for plus classification, \n",
    "    if its intersection(depending on threshold) with test object is not a subset(depending on threshold) \n",
    "    of minus context object and vice versa.\n",
    "    Test object classifies positive, if there is more votes for plus classification (and vice versa).\n",
    "    \n",
    "    Parameters\n",
    "    ----------\n",
    "    X_plus : list of dict\n",
    "        The plus context of train dataset\n",
    "    X_minus : list of dict\n",
    "        The minus context of train dataset\n",
    "    X_test : list of dict\n",
    "        The test dataset\n",
    "    threshold_subset : int\n",
    "        The limitation threshold for counter of subsets of plus/minus context and test sets intersection in minus/plus context \n",
    "    threshold_intersec : float\n",
    "        The limitation threshold for counter of elements in plus/minus context and test sets intersection\n",
    "    \"\"\"\n",
    "    \n",
    "    norm_plus = (len(X_plus)+len(X_minus))//len(X_plus)\n",
    "    norm_minus = (len(X_plus)+len(X_minus))//len(X_minus)\n",
    "    y_pred = []\n",
    "    random_counter = 0\n",
    "    \n",
    "    for ent_test in X_test:\n",
    "        labels = {'plus':0, 'minus':0}\n",
    "        for ent_plus in X_plus:\n",
    "            counter_plus = 0 \n",
    "            intersec_plus = dict_intersec(ent_test, ent_plus, option='intersec')\n",
    "            intersec_plus_len_norm = len(intersec_plus)/len(ent_test)\n",
    "            if intersec_plus_len_norm >= threshold_intersec:\n",
    "                for ent_minus in X_minus:\n",
    "                    if dict_intersec(intersec_plus, ent_minus, option='subset'):\n",
    "                        counter_plus += 1\n",
    "                if counter_plus <= threshold_subset:\n",
    "                    labels['plus'] += 1\n",
    "        for ent_minus in X_minus:\n",
    "            counter_minus = 0\n",
    "            intersec_minus = dict_intersec(ent_test, ent_minus, option='intersec')\n",
    "            intersec_minus_len_norm = len(intersec_minus)/len(ent_test)\n",
    "            if intersec_minus_len_norm >= threshold_intersec:\n",
    "                for ent_plus in X_plus:\n",
    "                    if dict_intersec(intersec_minus, ent_plus, option='subset'):\n",
    "                        counter_minus += 1\n",
    "                if counter_minus <= threshold_subset:\n",
    "                    labels['minus'] += 1\n",
    "        \n",
    "        labels['plus'] = labels['plus']*norm_plus\n",
    "        labels['minus'] = labels['minus']*norm_minus\n",
    "        if labels['plus'] > labels['minus']:\n",
    "            y_pred.append(True)\n",
    "        elif labels['plus'] < labels['minus']:\n",
    "            y_pred.append(False)\n",
    "        else:\n",
    "            random_counter += 1\n",
    "            random.seed(1)\n",
    "            y_pred.append(bool(random.getrandbits(1)))\n",
    "            \n",
    "#         if random_counter >= 0.25*len(X_test):\n",
    "#             raise ValueError('Answer is too random')\n",
    "    \n",
    "    randomness = random_counter/len(X_test)\n",
    "    \n",
    "    return y_pred, randomness"
   ]
  },
  {
   "cell_type": "markdown",
   "metadata": {},
   "source": [
    "### Algorithm 4\n",
    "\n",
    "Algorithm classifies test object by maximum subset of plus/minus context object and test object intersection in minus/plus context object.  \n",
    "Test object is True, if there is more votes for plus classification (and vice versa).  \n",
    "It has threshold_intersec, which controls, how many elements can be in plus/minus context and test sets intersection."
   ]
  },
  {
   "cell_type": "code",
   "execution_count": 13,
   "metadata": {
    "pycharm": {
     "name": "#%%\n"
    }
   },
   "outputs": [],
   "source": [
    "import random\n",
    "\n",
    "def Alg_4(X_plus, X_minus, X_test, threshold_intersec):\n",
    "    \"\"\"Algorithm classifies test object by maximum subset of plus/minus context object and test object \n",
    "    intersection in minus/plus context object.\n",
    "    Test object is True, if there is more votes for plus classification (and vice versa).\n",
    "    It has threshold_intersec, which controls, how many elements can be in plus/minus context and test sets intersection.\n",
    "    \n",
    "    Parameters\n",
    "    ----------\n",
    "    X_plus : list of dict\n",
    "        The plus context of train dataset\n",
    "    X_minus : list of dict\n",
    "        The minus context of train dataset\n",
    "    X_test : list of dict\n",
    "        The test dataset\n",
    "    threshold_intersec : float\n",
    "        The limitation threshold for counter of elements in plus/minus context and test sets intersection\n",
    "    \"\"\"\n",
    "    \n",
    "    norm_plus = (len(X_plus)+len(X_minus))//len(X_plus)\n",
    "    norm_minus = (len(X_plus)+len(X_minus))//len(X_minus)\n",
    "    y_pred = []\n",
    "    random_counter = 0\n",
    "    \n",
    "    for ent_test in X_test:\n",
    "\n",
    "        max_counter_plus = 0\n",
    "        max_counter_minus = 0\n",
    "        \n",
    "        for ent_plus in X_plus:\n",
    "            counter_plus = 0 \n",
    "            \n",
    "            intersec_plus = dict_intersec(ent_test, ent_plus, option='intersec')\n",
    "            intersec_plus_len_norm = len(intersec_plus)/len(ent_test)\n",
    "            if intersec_plus_len_norm < threshold_intersec:\n",
    "                continue\n",
    "            for ent_minus in X_minus:\n",
    "                if dict_intersec(intersec_plus, ent_minus, option='subset'):\n",
    "                    counter_plus += 1\n",
    "                    max_counter_plus = max(counter_plus, max_counter_plus)\n",
    "\n",
    "        for ent_minus in X_minus:\n",
    "            counter_minus = 0\n",
    "            intersec_minus = dict_intersec(ent_test, ent_minus, option='intersec')\n",
    "            intersec_minus_len_norm = len(intersec_minus)/len(ent_test)\n",
    "            if intersec_minus_len_norm < threshold_intersec:\n",
    "                continue\n",
    "            for ent_plus in X_plus:\n",
    "                if dict_intersec(intersec_minus, ent_plus, option='subset'):\n",
    "                    counter_minus += 1\n",
    "                    max_counter_minus = max(counter_minus, max_counter_minus)\n",
    "                \n",
    "        y_pred.append(max_counter_plus<max_counter_minus)\n",
    "    \n",
    "    randomness = 0\n",
    "    \n",
    "    return y_pred, randomness"
   ]
  },
  {
   "cell_type": "markdown",
   "metadata": {},
   "source": [
    "### BernoulliNB Algorithm"
   ]
  },
  {
   "cell_type": "code",
   "execution_count": 48,
   "metadata": {
    "pycharm": {
     "name": "#%%\n"
    }
   },
   "outputs": [],
   "source": [
    "from sklearn.naive_bayes import BernoulliNB\n",
    "\n",
    "def bernoulliNB(dataset_shortname):\n",
    "    start = datetime.now()\n",
    "    cv_path = 'C:/Users/Hp/PycharmProjects/OSDA/cross_validated/'\n",
    "    y_pred_arr = []\n",
    "    metrics = []\n",
    "    for i in range(1,11):\n",
    "        test = pd.read_csv(cv_path+dataset_shortname+r'_test_'+str(i)+r'.csv')\n",
    "        train = pd.read_csv(cv_path+dataset_shortname+r'_train_'+str(i)+r'.csv')\n",
    "        \n",
    "        X_train = train.drop('target', axis = 1).to_numpy()\n",
    "        y_train = train['target'].to_numpy()\n",
    "        \n",
    "        X_test = test.drop('target', axis = 1).to_numpy()\n",
    "        y_test = test['target'].to_numpy()\n",
    "        \n",
    "        clf = BernoulliNB()\n",
    "        clf.fit(X_train, y_train)\n",
    "        \n",
    "        y_pred = clf.predict(X_test)\n",
    "        \n",
    "#         print(y_test)\n",
    "        acc, roc_auc, prc, rcl = metrics_test(y_pred_list=y_pred, y_real_list=y_test.tolist())\n",
    "        metrics.append([acc, roc_auc, prc, rcl, 0])\n",
    "        y_pred_arr.append(y_pred)\n",
    "    \n",
    "    print ('Algorithm runtime: {}'.format(datetime.now()-start)) #str().split(\".\")[0]\n",
    "        \n",
    "    return y_pred_arr, y_test, metrics"
   ]
  },
  {
   "cell_type": "markdown",
   "metadata": {},
   "source": [
    "# 5. Evaluating algorithms"
   ]
  },
  {
   "cell_type": "code",
   "execution_count": 15,
   "metadata": {
    "pycharm": {
     "name": "#%%\n"
    }
   },
   "outputs": [],
   "source": [
    "from datetime import datetime\n",
    "\n",
    "def alg_eval(dataset_shortname, alg_n=1, n_splits=10, is_already_cv=True, \n",
    "             threshold_subset=0, threshold_intersec=0, print_time=True):\n",
    "    \n",
    "    start=datetime.now()\n",
    "    \n",
    "    # vars\n",
    "    std_path = 'C:/Users/Hp/PycharmProjects/OSDA/std_datasets/'\n",
    "    cv_path = 'C:/Users/Hp/PycharmProjects/OSDA/cross_validated/'\n",
    "    # if using .py script\n",
    "    # script_dir = os.path.abspath(os.path.dirname(sys.argv[0]) or '.')\n",
    "    metrics = []\n",
    "    y_pred_arr = []\n",
    "    # 1. step - Cross Validation\n",
    "    if not is_already_cv:\n",
    "        cross_validation(path_in=std_path+dataset_shortname+r'.csv', #+r'tic_tac_toe.csv',\n",
    "                        path_out=cv_path,\n",
    "                        dataset_short_name=dataset_shortname,\n",
    "                        n_splits=n_splits)\n",
    "    for i in range(1,n_splits+1):\n",
    "        # 2. step - Data Preprocessing\n",
    "        X_plus, X_minus, X_test, y_test = data_preprocessing(path_test=cv_path+dataset_shortname+r'_test_'+str(i)+r'.csv',\n",
    "                                                             path_train=cv_path+dataset_shortname+r'_train_'+str(i)+r'.csv')\n",
    "\n",
    "        # 3. step - Algorithm\n",
    "        y_real = y_test\n",
    "        if alg_n == 1:\n",
    "            y_pred, rdnm = Alg_1(X_plus, X_minus, X_test, threshold_subset=threshold_subset)\n",
    "\n",
    "        if alg_n == 2:\n",
    "            y_pred, rdnm = Alg_2(X_plus, X_minus, X_test, threshold_intersec=threshold_intersec)\n",
    "\n",
    "        if alg_n == 3:\n",
    "            y_pred, rdnm = Alg_3(X_plus, X_minus, X_test, threshold_subset=threshold_subset, threshold_intersec=threshold_intersec)\n",
    "\n",
    "        if alg_n == 4:\n",
    "            y_pred, rdnm = Alg_4(X_plus, X_minus, X_test, threshold_intersec=threshold_intersec)\n",
    "\n",
    "        # 4. step - Metrics\n",
    "        acc, roc_auc, prc, rcl = metrics_test(y_pred_list=y_pred, y_real_list=y_real)\n",
    "        metrics.append([acc, roc_auc, prc, rcl, rdnm])\n",
    "        y_pred_arr.append(y_pred)\n",
    "    if print_time:\n",
    "        print ('Algorithm runtime: {}'.format(datetime.now()-start)) #str().split(\".\")[0]\n",
    "    return y_pred_arr, y_real, metrics"
   ]
  },
  {
   "cell_type": "markdown",
   "metadata": {},
   "source": [
    "# 6. Experiments"
   ]
  },
  {
   "cell_type": "markdown",
   "metadata": {},
   "source": [
    "**6.1 Supporting functions**"
   ]
  },
  {
   "cell_type": "code",
   "execution_count": 16,
   "metadata": {
    "pycharm": {
     "name": "#%%\n"
    }
   },
   "outputs": [],
   "source": [
    "def avg_metrics(metrics):\n",
    "    np_metrics = np.array(metrics)\n",
    "    return np.mean(np_metrics, axis=0)"
   ]
  },
  {
   "cell_type": "code",
   "execution_count": 17,
   "metadata": {
    "pycharm": {
     "name": "#%%\n"
    }
   },
   "outputs": [],
   "source": [
    "def print_metrics(metrics):\n",
    "    print('Accuracy score: {:.4f}'.format(metrics[0]))\n",
    "    print('Roc AUC Score: {:.4f}'.format(metrics[1]))\n",
    "    print('Precision Score: {:.4f}'.format(metrics[2]))\n",
    "    print('Recall Score: {:.4f}'.format(metrics[3]))\n",
    "    print('Randomness of prediction: {:.4f}'.format(metrics[4]))"
   ]
  },
  {
   "cell_type": "markdown",
   "metadata": {},
   "source": [
    "**6.2 Hyperparameters tuning**"
   ]
  },
  {
   "cell_type": "code",
   "execution_count": 18,
   "metadata": {
    "pycharm": {
     "name": "#%%\n"
    }
   },
   "outputs": [],
   "source": [
    "import matplotlib.pyplot as plt\n",
    "\n",
    "def hp_tuning(dataset_shortname, alg_n):\n",
    "    avg_m_arr = np.empty((0,5), float)\n",
    "    if alg_n == 1:\n",
    "        for i in range(0,6):\n",
    "            _, _, metrics = alg_eval(dataset_shortname=dataset_shortname, alg_n=alg_n, threshold_subset=i, print_time=False)\n",
    "            avg_m = avg_metrics(metrics)\n",
    "            avg_m_arr = np.vstack([avg_m_arr, avg_m])\n",
    "    if alg_n in [2,3,4]:\n",
    "        for i in np.arange(0, 1.1, 0.1):\n",
    "            _, _, metrics = alg_eval(dataset_shortname=dataset_shortname, alg_n=alg_n, threshold_subset=0, threshold_intersec=i, print_time=False)\n",
    "            avg_m = avg_metrics(metrics)\n",
    "            avg_m_arr = np.vstack([avg_m_arr, avg_m])\n",
    "    \n",
    "    plt.plot(avg_m_arr)\n",
    "    plt.legend(['Accuracy score', 'ROC AUC', 'Precision','Recall','Prediction Randomness'],bbox_to_anchor=(1.05, 1), loc='upper left', borderaxespad=0.)\n",
    "    plt.grid()\n",
    "    plt.show()\n",
    "    \n",
    "    return avg_m_arr"
   ]
  },
  {
   "cell_type": "code",
   "execution_count": 19,
   "metadata": {
    "pycharm": {
     "name": "#%%\n"
    }
   },
   "outputs": [
    {
     "data": {
      "image/png": "[encoded data removed]",
      "text/plain": [
       "<Figure size 432x288 with 1 Axes>"
      ]
     },
     "metadata": {
      "needs_background": "light"
     },
     "output_type": "display_data"
    },
    {
     "data": {
      "text/plain": [
       "array([[0.91811594, 0.91939408, 0.98452381, 0.85962149, 0.        ],\n",
       "       [0.88351449, 0.88908092, 1.        , 0.77816184, 0.        ],\n",
       "       [0.84474638, 0.8544622 , 1.        , 0.70892441, 0.        ],\n",
       "       [0.80181159, 0.81383339, 1.        , 0.62766678, 0.00416667],\n",
       "       [0.7759058 , 0.78752026, 1.        , 0.57504052, 0.        ],\n",
       "       [0.75      , 0.76461982, 1.        , 0.52923965, 0.00434783]])"
      ]
     },
     "execution_count": 19,
     "metadata": {},
     "output_type": "execute_result"
    }
   ],
   "source": [
    "hp_tuning(dataset_shortname='hv', alg_n=1)"
   ]
  },
  {
   "cell_type": "code",
   "execution_count": 20,
   "metadata": {
    "pycharm": {
     "name": "#%%\n"
    }
   },
   "outputs": [
    {
     "data": {
      "image/png": "[encoded data removed]",
      "text/plain": [
       "<Figure size 432x288 with 1 Axes>"
      ]
     },
     "metadata": {
      "needs_background": "light"
     },
     "output_type": "display_data"
    },
    {
     "data": {
      "text/plain": [
       "array([[0.88407895, 0.84578222, 0.86871346, 0.96788496, 0.        ],\n",
       "       [0.81516447, 0.7725894 , 0.82568957, 0.90992945, 0.003125  ],\n",
       "       [0.78178728, 0.74170578, 0.8116524 , 0.86498059, 0.00105263],\n",
       "       [0.76610746, 0.72597   , 0.80516567, 0.84560998, 0.00520833],\n",
       "       [0.7410636 , 0.69913858, 0.79513588, 0.81414192, 0.00208333],\n",
       "       [0.73164474, 0.68662618, 0.79494071, 0.80880706, 0.00520833]])"
      ]
     },
     "execution_count": 20,
     "metadata": {},
     "output_type": "execute_result"
    }
   ],
   "source": [
    "hp_tuning(dataset_shortname='ttt', alg_n=1)"
   ]
  },
  {
   "cell_type": "code",
   "execution_count": 21,
   "metadata": {
    "pycharm": {
     "name": "#%%\n"
    }
   },
   "outputs": [
    {
     "data": {
      "image/png": "[encoded data removed]",
      "text/plain": [
       "<Figure size 432x288 with 1 Axes>"
      ]
     },
     "metadata": {
      "needs_background": "light"
     },
     "output_type": "display_data"
    },
    {
     "data": {
      "text/plain": [
       "array([[0.53496377, 0.5       , 0.53496377, 1.        , 0.        ],\n",
       "       [0.5692029 , 0.53954365, 0.55555007, 1.        , 0.00869565],\n",
       "       [0.81956522, 0.81791209, 0.77756854, 0.94691087, 0.00869565],\n",
       "       [0.87119565, 0.87042888, 0.85250808, 0.93976801, 0.00416667],\n",
       "       [0.87971014, 0.88169691, 0.91431818, 0.86497502, 0.00416667],\n",
       "       [0.89655797, 0.89711233, 0.95579004, 0.85978022, 0.00416667],\n",
       "       [0.90072464, 0.90113831, 0.96412338, 0.85783217, 0.00434783],\n",
       "       [0.92246377, 0.92199023, 0.97202381, 0.88842491, 0.        ],\n",
       "       [0.9009058 , 0.90062549, 0.97071678, 0.84569542, 0.02608696],\n",
       "       [0.81068841, 0.81910145, 0.99166667, 0.64931402, 0.27481884],\n",
       "       [0.46503623, 0.5       , 0.        , 0.        , 1.        ]])"
      ]
     },
     "execution_count": 21,
     "metadata": {},
     "output_type": "execute_result"
    }
   ],
   "source": [
    "hp_tuning(dataset_shortname='hv', alg_n=2)"
   ]
  },
  {
   "cell_type": "code",
   "execution_count": 22,
   "metadata": {
    "pycharm": {
     "name": "#%%\n"
    }
   },
   "outputs": [
    {
     "data": {
      "image/png": "[encoded data removed]",
      "text/plain": [
       "<Figure size 432x288 with 1 Axes>"
      ]
     },
     "metadata": {
      "needs_background": "light"
     },
     "output_type": "display_data"
    },
    {
     "data": {
      "text/plain": [
       "array([[0.65338816, 0.5       , 0.65338816, 1.        , 0.        ],\n",
       "       [0.65338816, 0.5       , 0.65338816, 1.        , 0.        ],\n",
       "       [0.65338816, 0.5       , 0.65338816, 1.        , 0.        ],\n",
       "       [0.65338816, 0.5       , 0.65338816, 1.        , 0.        ],\n",
       "       [0.65338816, 0.5       , 0.65338816, 1.        , 0.        ],\n",
       "       [0.65338816, 0.5       , 0.65338816, 1.        , 0.        ],\n",
       "       [0.65130482, 0.49940632, 0.65319079, 0.99558683, 0.00104167],\n",
       "       [0.70969298, 0.58430725, 0.69273321, 1.        , 0.00313596],\n",
       "       [0.99060307, 0.98728636, 0.98525608, 1.        , 0.00416667],\n",
       "       [0.34661184, 0.5       , 0.        , 0.        , 1.        ],\n",
       "       [0.34661184, 0.5       , 0.        , 0.        , 1.        ]])"
      ]
     },
     "execution_count": 22,
     "metadata": {},
     "output_type": "execute_result"
    }
   ],
   "source": [
    "hp_tuning(dataset_shortname='ttt', alg_n=2)"
   ]
  },
  {
   "cell_type": "code",
   "execution_count": 23,
   "metadata": {
    "pycharm": {
     "name": "#%%\n"
    }
   },
   "outputs": [
    {
     "data": {
      "image/png": "[encoded data removed]",
      "text/plain": [
       "<Figure size 432x288 with 1 Axes>"
      ]
     },
     "metadata": {
      "needs_background": "light"
     },
     "output_type": "display_data"
    },
    {
     "data": {
      "text/plain": [
       "array([[0.91811594, 0.91939408, 0.98452381, 0.85962149, 0.        ],\n",
       "       [0.91811594, 0.91939408, 0.98452381, 0.85962149, 0.        ],\n",
       "       [0.91811594, 0.91939408, 0.98452381, 0.85962149, 0.        ],\n",
       "       [0.91376812, 0.91606074, 0.98452381, 0.85295482, 0.        ],\n",
       "       [0.90525362, 0.90822344, 0.97916667, 0.84978022, 0.        ],\n",
       "       [0.90507246, 0.90822344, 0.97147436, 0.86089133, 0.        ],\n",
       "       [0.90960145, 0.91322344, 0.97147436, 0.87089133, 0.00434783],\n",
       "       [0.90960145, 0.90925519, 0.97202381, 0.86295482, 0.        ],\n",
       "       [0.89655797, 0.89705406, 0.97071678, 0.83855256, 0.0173913 ],\n",
       "       [0.81068841, 0.81910145, 0.99166667, 0.64931402, 0.27047101],\n",
       "       [0.64619565, 0.6705933 , 1.        , 0.34118659, 0.57753623]])"
      ]
     },
     "execution_count": 23,
     "metadata": {},
     "output_type": "execute_result"
    }
   ],
   "source": [
    "hp_tuning(dataset_shortname='hv', alg_n=3)"
   ]
  },
  {
   "cell_type": "code",
   "execution_count": 24,
   "metadata": {
    "pycharm": {
     "name": "#%%\n"
    }
   },
   "outputs": [
    {
     "data": {
      "image/png": "[encoded data removed]",
      "text/plain": [
       "<Figure size 432x288 with 1 Axes>"
      ]
     },
     "metadata": {
      "needs_background": "light"
     },
     "output_type": "display_data"
    },
    {
     "data": {
      "text/plain": [
       "array([[0.88407895, 0.84578222, 0.86871346, 0.96788496, 0.        ],\n",
       "       [0.88407895, 0.84578222, 0.86871346, 0.96788496, 0.        ],\n",
       "       [0.88407895, 0.84578222, 0.86871346, 0.96788496, 0.        ],\n",
       "       [0.88407895, 0.84578222, 0.86871346, 0.96788496, 0.        ],\n",
       "       [0.88407895, 0.84578222, 0.86871346, 0.96788496, 0.        ],\n",
       "       [0.89032895, 0.85752691, 0.87876536, 0.96459084, 0.00104167],\n",
       "       [0.88094298, 0.85735001, 0.89251065, 0.9314812 , 0.00208333],\n",
       "       [0.86425439, 0.86847305, 0.93692506, 0.84853749, 0.01042763],\n",
       "       [0.97180921, 0.97749489, 1.        , 0.95498979, 0.00625   ],\n",
       "       [0.34661184, 0.5       , 0.        , 0.        , 1.        ],\n",
       "       [0.34661184, 0.5       , 0.        , 0.        , 1.        ]])"
      ]
     },
     "execution_count": 24,
     "metadata": {},
     "output_type": "execute_result"
    }
   ],
   "source": [
    "hp_tuning(dataset_shortname='ttt', alg_n=3)"
   ]
  },
  {
   "cell_type": "code",
   "execution_count": 25,
   "metadata": {
    "pycharm": {
     "name": "#%%\n"
    }
   },
   "outputs": [
    {
     "data": {
      "image/png": "[encoded data removed]",
      "text/plain": [
       "<Figure size 432x288 with 1 Axes>"
      ]
     },
     "metadata": {
      "needs_background": "light"
     },
     "output_type": "display_data"
    },
    {
     "data": {
      "text/plain": [
       "array([[0.85797101, 0.86377844, 1.        , 0.72755689, 0.        ],\n",
       "       [0.86213768, 0.86734987, 1.        , 0.73469974, 0.        ],\n",
       "       [0.88804348, 0.89343989, 1.        , 0.78687979, 0.        ],\n",
       "       [0.89673913, 0.900801  , 0.98424242, 0.82243534, 0.        ],\n",
       "       [0.91847826, 0.92478605, 0.99090909, 0.85790543, 0.        ],\n",
       "       [0.91394928, 0.91725122, 0.97785714, 0.86644689, 0.        ],\n",
       "       [0.88351449, 0.88830406, 0.97552448, 0.80855256, 0.        ],\n",
       "       [0.69836957, 0.70987956, 0.91793651, 0.47856255, 0.        ],\n",
       "       [0.57228261, 0.60365135, 1.        , 0.2073027 , 0.        ],\n",
       "       [0.46503623, 0.5       , 0.        , 0.        , 0.        ],\n",
       "       [0.46503623, 0.5       , 0.        , 0.        , 0.        ]])"
      ]
     },
     "execution_count": 25,
     "metadata": {},
     "output_type": "execute_result"
    }
   ],
   "source": [
    "hp_tuning(dataset_shortname='hv', alg_n=4)"
   ]
  },
  {
   "cell_type": "code",
   "execution_count": 26,
   "metadata": {
    "pycharm": {
     "name": "#%%\n"
    }
   },
   "outputs": [
    {
     "data": {
      "image/png": "[encoded data removed]",
      "text/plain": [
       "<Figure size 432x288 with 1 Axes>"
      ]
     },
     "metadata": {
      "needs_background": "light"
     },
     "output_type": "display_data"
    },
    {
     "data": {
      "text/plain": [
       "array([[0.81200658, 0.73490969, 0.77816552, 0.99536066, 0.        ],\n",
       "       [0.81200658, 0.73490969, 0.77816552, 0.99536066, 0.        ],\n",
       "       [0.81200658, 0.73490969, 0.77816552, 0.99536066, 0.        ],\n",
       "       [0.81200658, 0.73490969, 0.77816552, 0.99536066, 0.        ],\n",
       "       [0.62833333, 0.54113431, 0.67627367, 0.83961815, 0.        ],\n",
       "       [0.94990132, 0.93611631, 0.94265211, 0.98364967, 0.        ],\n",
       "       [0.82983553, 0.8509809 , 0.93975824, 0.79223877, 0.        ],\n",
       "       [0.96551535, 0.97366996, 1.        , 0.94733992, 0.        ],\n",
       "       [0.34661184, 0.5       , 0.        , 0.        , 0.        ],\n",
       "       [0.34661184, 0.5       , 0.        , 0.        , 0.        ],\n",
       "       [0.34661184, 0.5       , 0.        , 0.        , 0.        ]])"
      ]
     },
     "execution_count": 26,
     "metadata": {},
     "output_type": "execute_result"
    }
   ],
   "source": [
    "hp_tuning(dataset_shortname='ttt', alg_n=4)"
   ]
  },
  {
   "cell_type": "markdown",
   "metadata": {
    "pycharm": {
     "name": "#%% md\n"
    }
   },
   "source": [
    "**6.3 Hyperparameters results**"
   ]
  },
  {
   "cell_type": "markdown",
   "metadata": {},
   "source": [
    "Best hyperparameter for first algorithm is threshold_subset = 0 for both datasets.  \n",
    "Best hyperparameter for second algorithm is threshold_intersec = 0.7 and 0.8 for two datasets respectfully.  \n",
    "Best hyperparameter for third algorithm is threshold_subset = 0 (because it shows us on first alg) and threshold_intersec = 0.2 and 0.8 for two datasets respectfully.  \n",
    "Best hyperparameter for fourth algorithm is threshold_intersec = 0.4 and 0.7 for two datasets respectfully.  "
   ]
  },
  {
   "cell_type": "markdown",
   "metadata": {},
   "source": [
    "**6.4 Testing with tuned hyperparameters**"
   ]
  },
  {
   "cell_type": "code",
   "execution_count": 41,
   "metadata": {
    "pycharm": {
     "name": "#%%\n"
    }
   },
   "outputs": [
    {
     "name": "stdout",
     "output_type": "stream",
     "text": [
      "Algorithm runtime: 0:00:02.513805\n",
      "Accuracy score: 0.9181\n",
      "Roc AUC Score: 0.9194\n",
      "Precision Score: 0.9845\n",
      "Recall Score: 0.8596\n",
      "Randomness of prediction: 0.0000\n"
     ]
    }
   ],
   "source": [
    "# alg 1 dataset 1 KFolds = 10\n",
    "y_pred, y_real, metrics = alg_eval(dataset_shortname='hv', alg_n=1, threshold_subset=0)\n",
    "avg_m_11 = avg_metrics(metrics)\n",
    "print_metrics(avg_m_11)"
   ]
  },
  {
   "cell_type": "code",
   "execution_count": 37,
   "metadata": {
    "pycharm": {
     "name": "#%%\n"
    }
   },
   "outputs": [
    {
     "name": "stdout",
     "output_type": "stream",
     "text": [
      "Algorithm runtime: 0:02:39.377615\n",
      "Accuracy score: 0.8841\n",
      "Roc AUC Score: 0.8458\n",
      "Precision Score: 0.8687\n",
      "Recall Score: 0.9679\n",
      "Randomness of prediction: 0.0000\n"
     ]
    }
   ],
   "source": [
    "# alg 1 dataset 2 KFolds = 10\n",
    "y_pred, y_real, metrics = alg_eval(dataset_shortname='ttt', alg_n=1, threshold_subset=0)\n",
    "avg_m_12 = avg_metrics(metrics)\n",
    "print_metrics(avg_m_12)"
   ]
  },
  {
   "cell_type": "code",
   "execution_count": 43,
   "metadata": {
    "pycharm": {
     "name": "#%%\n"
    }
   },
   "outputs": [
    {
     "name": "stdout",
     "output_type": "stream",
     "text": [
      "Algorithm runtime: 0:00:01.091753\n",
      "Accuracy score: 0.9225\n",
      "Roc AUC Score: 0.9220\n",
      "Precision Score: 0.9720\n",
      "Recall Score: 0.8884\n",
      "Randomness of prediction: 0.0000\n"
     ]
    }
   ],
   "source": [
    "# alg 2 dataset 1 KFolds = 10\n",
    "y_pred, y_real, metrics = alg_eval(dataset_shortname='hv', alg_n=2, threshold_intersec=0.7)\n",
    "avg_m_21 = avg_metrics(metrics)\n",
    "print_metrics(avg_m_21)"
   ]
  },
  {
   "cell_type": "code",
   "execution_count": 58,
   "metadata": {
    "pycharm": {
     "name": "#%%\n"
    }
   },
   "outputs": [
    {
     "name": "stdout",
     "output_type": "stream",
     "text": [
      "Algorithm runtime: 0:00:16.586203\n",
      "Accuracy score: 0.9906\n",
      "Roc AUC Score: 0.9873\n",
      "Precision Score: 0.9853\n",
      "Recall Score: 1.0000\n",
      "Randomness of prediction: 0.0042\n"
     ]
    }
   ],
   "source": [
    "# alg 2 dataset 2 KFolds = 10\n",
    "y_pred, y_real, metrics = alg_eval(dataset_shortname='ttt', alg_n=2, threshold_intersec=0.8)\n",
    "avg_m_22 = avg_metrics(metrics)\n",
    "print_metrics(avg_m_22)"
   ]
  },
  {
   "cell_type": "code",
   "execution_count": 40,
   "metadata": {
    "pycharm": {
     "name": "#%%\n"
    }
   },
   "outputs": [
    {
     "name": "stdout",
     "output_type": "stream",
     "text": [
      "Algorithm runtime: 0:00:02.194114\n",
      "Accuracy score: 0.9181\n",
      "Roc AUC Score: 0.9194\n",
      "Precision Score: 0.9845\n",
      "Recall Score: 0.8596\n",
      "Randomness of prediction: 0.0000\n"
     ]
    }
   ],
   "source": [
    "# alg 3 dataset 1\n",
    "y_pred, y_real, metrics = alg_eval(dataset_shortname='hv', alg_n=3, threshold_subset=0, threshold_intersec=0.2)\n",
    "avg_m_31 = avg_metrics(metrics)\n",
    "print_metrics(avg_m_31)"
   ]
  },
  {
   "cell_type": "code",
   "execution_count": 39,
   "metadata": {
    "pycharm": {
     "name": "#%%\n"
    }
   },
   "outputs": [
    {
     "name": "stdout",
     "output_type": "stream",
     "text": [
      "Algorithm runtime: 0:00:08.940165\n",
      "Accuracy score: 0.9718\n",
      "Roc AUC Score: 0.9775\n",
      "Precision Score: 1.0000\n",
      "Recall Score: 0.9550\n",
      "Randomness of prediction: 0.0062\n"
     ]
    }
   ],
   "source": [
    "# alg 3 dataset 2\n",
    "y_pred, y_real, metrics = alg_eval(dataset_shortname='ttt', alg_n=3, threshold_subset=0, threshold_intersec=0.8)\n",
    "avg_m_32 = avg_metrics(metrics)\n",
    "print_metrics(avg_m_32)"
   ]
  },
  {
   "cell_type": "code",
   "execution_count": 44,
   "metadata": {
    "pycharm": {
     "name": "#%%\n"
    }
   },
   "outputs": [
    {
     "name": "stdout",
     "output_type": "stream",
     "text": [
      "Algorithm runtime: 0:00:04.965573\n",
      "Accuracy score: 0.9185\n",
      "Roc AUC Score: 0.9248\n",
      "Precision Score: 0.9909\n",
      "Recall Score: 0.8579\n",
      "Randomness of prediction: 0.0000\n"
     ]
    }
   ],
   "source": [
    "# alg 4 dataset 1\n",
    "y_pred, y_real, metrics = alg_eval(dataset_shortname='hv', alg_n=4, threshold_intersec=0.4)\n",
    "avg_m_41 = avg_metrics(metrics)\n",
    "print_metrics(avg_m_41)"
   ]
  },
  {
   "cell_type": "code",
   "execution_count": 54,
   "metadata": {
    "pycharm": {
     "name": "#%%\n"
    }
   },
   "outputs": [
    {
     "name": "stdout",
     "output_type": "stream",
     "text": [
      "[[0.91811594 0.91939408 0.98452381 0.85962149 0.        ]\n",
      " [0.92246377 0.92199023 0.97202381 0.88842491 0.        ]\n",
      " [0.91811594 0.91939408 0.98452381 0.85962149 0.        ]\n",
      " [0.91847826 0.92478605 0.99090909 0.85790543 0.        ]]\n"
     ]
    }
   ],
   "source": [
    "# alg 4 dataset 2\n",
    "y_pred, y_real, metrics = alg_eval(dataset_shortname='ttt', alg_n=4, threshold_intersec=0.7)\n",
    "avg_m_42 = avg_metrics(metrics)\n",
    "print_metrics(avg_m_42)"
   ]
  },
  {
   "cell_type": "markdown",
   "metadata": {},
   "source": [
    "Best: **Algorithm 4**  \n",
    "Algorithm runtime: 0:00:01.578181  \n",
    "Accuracy score: 0.9139  \n",
    "Roc AUC Score: 0.9173  \n",
    "Precision Score: 0.9779  \n",
    "Recall Score: 0.8664  \n",
    "Randomness of prediction: 0.0000"
   ]
  },
  {
   "cell_type": "code",
   "execution_count": 59,
   "metadata": {
    "pycharm": {
     "name": "#%%\n"
    }
   },
   "outputs": [
    {
     "name": "stdout",
     "output_type": "stream",
     "text": [
      "[[0.88407895 0.84578222 0.86871346 0.96788496 0.        ]\n",
      " [0.99060307 0.98728636 0.98525608 1.         0.00416667]\n",
      " [0.97180921 0.97749489 1.         0.95498979 0.00625   ]\n",
      " [0.96551535 0.97366996 1.         0.94733992 0.        ]]\n"
     ]
    }
   ],
   "source": [
    "avg_metrics_ttt = np.vstack([avg_m_12, avg_m_22,avg_m_32,avg_m_42])\n",
    "print(avg_metrics_ttt)"
   ]
  },
  {
   "cell_type": "markdown",
   "metadata": {},
   "source": [
    "Best: **Algorithm 2**  \n",
    "Algorithm runtime: 0:00:05.664447  \n",
    "Accuracy score: 0.9906  \n",
    "Roc AUC Score: 0.9873  \n",
    "Precision Score: 0.9853  \n",
    "Recall Score: 1.0000  \n",
    "Randomness of prediction: 0.0042"
   ]
  },
  {
   "cell_type": "markdown",
   "metadata": {},
   "source": [
    "**Comparing to Bernoulli Naive Bayes**"
   ]
  },
  {
   "cell_type": "code",
   "execution_count": 51,
   "metadata": {
    "pycharm": {
     "name": "#%%\n"
    }
   },
   "outputs": [
    {
     "name": "stdout",
     "output_type": "stream",
     "text": [
      "Algorithm runtime: 0:00:00.246291\n",
      "Accuracy score: 0.9138\n",
      "Roc AUC Score: 0.9109\n",
      "Precision Score: 0.9604\n",
      "Recall Score: 0.8884\n",
      "Randomness of prediction: 0.0000\n"
     ]
    }
   ],
   "source": [
    "y_pred, y_real, metrics = bernoulliNB(dataset_shortname='hv')\n",
    "avg_m_bNB_hv = avg_metrics(metrics)\n",
    "print_metrics(avg_m_bNB_hv)"
   ]
  },
  {
   "cell_type": "code",
   "execution_count": 52,
   "metadata": {
    "pycharm": {
     "name": "#%%\n"
    }
   },
   "outputs": [
    {
     "name": "stdout",
     "output_type": "stream",
     "text": [
      "Algorithm runtime: 0:00:00.319680\n",
      "Accuracy score: 0.6909\n",
      "Roc AUC Score: 0.6414\n",
      "Precision Score: 0.7428\n",
      "Recall Score: 0.8101\n",
      "Randomness of prediction: 0.0000\n"
     ]
    }
   ],
   "source": [
    "y_pred, y_real, metrics = bernoulliNB(dataset_shortname='ttt')\n",
    "avg_m_bNB_ttt = avg_metrics(metrics)\n",
    "print_metrics(avg_m_bNB_ttt)"
   ]
  },
  {
   "cell_type": "markdown",
   "metadata": {},
   "source": [
    "**Histogram plots**"
   ]
  },
  {
   "cell_type": "code",
   "execution_count": 60,
   "metadata": {
    "pycharm": {
     "name": "#%%\n"
    }
   },
   "outputs": [],
   "source": [
    "avg_metrics_ttt_full = np.vstack([avg_metrics_ttt, avg_m_bNB_ttt])\n",
    "avg_metrics_hv_full = np.vstack([avg_metrics_hv, avg_m_bNB_hv])"
   ]
  },
  {
   "cell_type": "code",
   "execution_count": 61,
   "metadata": {
    "pycharm": {
     "name": "#%%\n"
    }
   },
   "outputs": [],
   "source": [
    "def hist_plot(data, name):\n",
    "    x = np.arange(data.shape[0])\n",
    "    dx = (np.arange(data.shape[1])-data.shape[1]/2.)/(data.shape[1]+2.)\n",
    "    d = 1./(data.shape[1]+2.)\n",
    "\n",
    "\n",
    "    fig, ax=plt.subplots()\n",
    "    labels = ['Alg1','Alg2','Alg3','Alg4','bNB']\n",
    "    x_axis = np.arange(0, 5, 1)\n",
    "    for i in range(data.shape[1]):\n",
    "        ax.bar(x+dx[i],data[:,i], width=d)#, label=\"label {}\".format(labels[i]))\n",
    "    plt.xticks(x_axis,labels)\n",
    "    plt.title(name)\n",
    "    plt.legend(['Accuracy score', 'ROC AUC', 'Precision','Recall'],bbox_to_anchor=(1.05, 1), loc='upper left', borderaxespad=0.)\n",
    "    plt.grid()\n",
    "    plt.show()"
   ]
  },
  {
   "cell_type": "code",
   "execution_count": 62,
   "metadata": {
    "pycharm": {
     "name": "#%%\n"
    }
   },
   "outputs": [
    {
     "data": {
      "image/png": "[encoded data removed]",
      "text/plain": [
       "<Figure size 432x288 with 1 Axes>"
      ]
     },
     "metadata": {
      "needs_background": "light"
     },
     "output_type": "display_data"
    }
   ],
   "source": [
    "hist_plot(avg_metrics_ttt_full, name= 'tic tac toe dataset')"
   ]
  },
  {
   "cell_type": "code",
   "execution_count": 63,
   "metadata": {
    "pycharm": {
     "name": "#%%\n"
    }
   },
   "outputs": [
    {
     "data": {
      "image/png": "[encoded data removed]",
      "text/plain": [
       "<Figure size 432x288 with 1 Axes>"
      ]
     },
     "metadata": {
      "needs_background": "light"
     },
     "output_type": "display_data"
    }
   ],
   "source": [
    "hist_plot(avg_metrics_hv_full, name= 'house votes dataset')"
   ]
  }
 ],
 "metadata": {
  "kernelspec": {
   "display_name": "Python 3",
   "language": "python",
   "name": "python3"
  },
  "language_info": {
   "codemirror_mode": {
    "name": "ipython",
    "version": 3
   },
   "file_extension": ".py",
   "mimetype": "text/x-python",
   "name": "python",
   "nbconvert_exporter": "python",
   "pygments_lexer": "ipython3",
   "version": "3.8.5"
  }
 },
 "nbformat": 4,
 "nbformat_minor": 4
}
