{
 "cells": [
  {
   "cell_type": "markdown",
   "metadata": {
    "collapsed": true
   },
   "source": [
    "## <center>Ordered Sets in Data Analysis</center>\n",
    "<center>Amantur Amatov</center> \n",
    "<center>Higher School of Economics</center> \n",
    "<center>Moscow, the Russian Federation</center> \n",
    "    \n",
    "----------------------------------------------------"
   ]
  },
  {
   "cell_type": "markdown",
   "metadata": {},
   "source": [
    "### Task 1.\n",
    "Let $U$ – finite set, and $f: U\\rightarrow U$  \n",
    "Prove, if $f$ is surjective functions, then $f$ is injective function"
   ]
  },
  {
   "cell_type": "markdown",
   "metadata": {},
   "source": [
    "### Proof:"
   ]
  },
  {
   "cell_type": "markdown",
   "metadata": {},
   "source": [
    "Suppose $f$ is not injective. Then $\\exists x_1 \\neq x_2 \\Leftrightarrow f(x_1)=f(x_2)$.  \n",
    "Then, since $U$ is finite, suppose that $f(x_i)=y_i$ for each $1 \\leq i \\leq |S|$. So if $f$ is not injective, let $f(x_1)=f(x_2)$, whence $y_1=y_2$, so the set\n",
    "\n",
    "$$f(U) = \\{y_1,y_2,...,y_{|U|}\\}$$ \n",
    "contains at most $|U|-1$ distinct elements.\n",
    "\n",
    "So,\n",
    "$$|f(U)|\\leq |U|-1$$\n",
    "\n",
    "Also, since $f$ is surjective, $f(U)=U$, then \n",
    "\n",
    "$$|f(U)|=|U|$$\n",
    "\n",
    "Then,\n",
    "\n",
    "$$|U|\\leq |U|-1$$ is a contradiction. And then $f$ is **injective**."
   ]
  },
  {
   "cell_type": "markdown",
   "metadata": {},
   "source": [
    "### Task 2\n",
    "Let consider binary relations on the set of 5 elements.  \n",
    "Count how many different binary relations that are simultaneously asymmetric and transitive"
   ]
  },
  {
   "cell_type": "markdown",
   "metadata": {},
   "source": [
    "### Solution\n",
    "\n",
    "By definition:\n",
    "An asymmetric relation is a binary relation on a set $X$ where for all $a$ and $b$ in $X$, if $a$ is related to $b$, then $b$ is not related to $a$.\n",
    "In the notation of first-order logic:\n",
    "\n",
    "$$\n",
    "\\forall a,b \\in X: aRb \\rightarrow \\neg(bRa)\n",
    "$$\n",
    "\n",
    "A transitive relation is a relation on a set $X$ where for all $a,b,c \\in X$, if $aRb$ and $bRc$, then $aRc$.\n",
    "In the notation of first-order logic:\n",
    "\n",
    "$$\n",
    "\\forall a,b,c \\in X: (aRb \\wedge bRc) \\rightarrow aRc\n",
    "$$\n",
    "\n",
    "So we have set of 5 elements. Matrix of this set will look like this:\n",
    "\n",
    "||$x_1$| $x_2$ | $x_3$ | $x_4$ | $x_5$ |\n",
    "| --- | --- | --- | --- | --- | --- |\n",
    "|  $x_1$ |&nbsp;| &nbsp; | &nbsp; | &nbsp; | &nbsp; |\n",
    "|  $x_2$ |&nbsp;| &nbsp; | &nbsp; | &nbsp; | &nbsp; |\n",
    "|  $x_3$ |&nbsp;| &nbsp; | &nbsp; | &nbsp; | &nbsp; |\n",
    "|  $x_4$ |&nbsp;| &nbsp; | &nbsp; | &nbsp; | &nbsp; |\n",
    "|  $x_5$ |&nbsp;| &nbsp; | &nbsp; | &nbsp; | &nbsp; |\n",
    "\n",
    "So we need to add 21 relations to our number of relations, that we will compute with Python, because, there is 20 relations with only one pair, like $x_1 R x_2$ or $x_2 R x_1$ etc. And these relations are asymmetric and transitive.\n",
    "And one relation that is an empty set, that is also a relation, that corresponds to conditions.  \n",
    "So we have **21+N** relations and we need to check other relations with pairs from 3 to 10.  \n",
    "\n",
    "For solving this task there was written a program in Python 3."
   ]
  },
  {
   "cell_type": "code",
   "execution_count": null,
   "metadata": {
    "pycharm": {
     "is_executing": true
    }
   },
   "outputs": [],
   "source": [
    "from itertools import combinations\n",
    "\n",
    "def generator(n,k):\n",
    "    result = []\n",
    "    for bits in combinations(range(n),k):\n",
    "        s = [0] * n\n",
    "        for bit in bits:\n",
    "            s[bit] = 1\n",
    "        result.append(s)\n",
    "    return result"
   ]
  },
  {
   "cell_type": "code",
   "execution_count": 16,
   "metadata": {},
   "outputs": [],
   "source": [
    "def check_relation(R):\n",
    "    size = R.shape[0]\n",
    "    for i in range(size):\n",
    "        if R[i,i]==1:\n",
    "            return False\n",
    "        for j in range(size):\n",
    "            #check for asymmetry\n",
    "            if R[i,j]==1 and R[j,i]==1:\n",
    "                return False\n",
    "            for k in range(size):\n",
    "                if j==k:\n",
    "                    continue\n",
    "                #check for transitivity\n",
    "                if R[i,j]==1 and R[j,k]==1 and R[i,k]==0:\n",
    "                    return False\n",
    "    return True"
   ]
  },
  {
   "cell_type": "code",
   "execution_count": 52,
   "metadata": {},
   "outputs": [
    {
     "name": "stdout",
     "output_type": "stream",
     "text": [
      "Relations: 4231\n"
     ]
    }
   ],
   "source": [
    "import numpy as np\n",
    "\n",
    "N = 0\n",
    "for i in range(2,11):\n",
    "    for element in generator(25,i):\n",
    "        r = np.array(element)\n",
    "        r = np.reshape(r,(5,5))\n",
    "        if check_relation(r):\n",
    "            N+=1\n",
    "N += 21\n",
    "print('Relations: {}'.format(N))"
   ]
  },
  {
   "cell_type": "markdown",
   "metadata": {},
   "source": [
    "Answer: **4231**  \n",
    "We can check it at https://oeis.org/A001035"
   ]
  },
  {
   "cell_type": "markdown",
   "metadata": {},
   "source": [
    "### Task 3\n",
    "In this task we ask you to implement topological sort algorithm in any language of your choice (except esoteric ones).  \n",
    "Compare the computational complexity for 2 cases of input data:\n",
    "1. List of edges\n",
    "2. Adjacency matrix"
   ]
  },
  {
   "cell_type": "markdown",
   "metadata": {},
   "source": [
    "### Solution\n",
    "In this task topological sort was implemented in Python.  "
   ]
  },
  {
   "cell_type": "markdown",
   "metadata": {},
   "source": [
    "Realization for Topologic Sort with input data as List of edges:"
   ]
  },
  {
   "cell_type": "code",
   "execution_count": 111,
   "metadata": {},
   "outputs": [],
   "source": [
    "from collections import defaultdict \n",
    "\n",
    "class Graph_edges: \n",
    "    def __init__(self, vertices): \n",
    "        self.graph = defaultdict(list)\n",
    "        self.V = vertices\n",
    "    def addEdge(self, u, v): \n",
    "        self.graph[u].append(v) \n",
    "  \n",
    "    def topologicalSort(self): \n",
    "        in_degree = [0]*(self.V) \n",
    "        for i in self.graph: \n",
    "            for j in self.graph[i]: \n",
    "                in_degree[j] += 1\n",
    "        queue = [] \n",
    "        for i in range(self.V): \n",
    "            if in_degree[i] == 0: \n",
    "                queue.append(i) \n",
    "        cnt = 0\n",
    "        top_order = [] \n",
    "        while queue: \n",
    "            u = queue.pop(0) \n",
    "            top_order.append(u) \n",
    "            for i in self.graph[u]: \n",
    "                in_degree[i] -= 1 \n",
    "                if in_degree[i] == 0: \n",
    "                    queue.append(i) \n",
    "            cnt += 1\n",
    "        return top_order"
   ]
  },
  {
   "cell_type": "code",
   "execution_count": 112,
   "metadata": {},
   "outputs": [
    {
     "data": {
      "text/plain": [
       "[2, 3, 0, 1]"
      ]
     },
     "execution_count": 112,
     "metadata": {},
     "output_type": "execute_result"
    }
   ],
   "source": [
    "g = Graph_edges(4) \n",
    "g.addEdge(2, 3) \n",
    "g.addEdge(3, 0) \n",
    "g.addEdge(3, 1) \n",
    "g.addEdge(2, 0)\n",
    "g.topologicalSort()"
   ]
  },
  {
   "cell_type": "markdown",
   "metadata": {},
   "source": [
    "If a directed acyclic graph with the set  $V$  of vertices and the set $E$ of edges is represented as list of edge, then complexity of algorithm is $O(V+E)$. The traverse of the edges to construct a list of in-degrees for vertices will take $|E|$ steps and the traverse the edges to find all edges that connect each vertice to other vertices will take $|V|$ steps."
   ]
  },
  {
   "cell_type": "markdown",
   "metadata": {},
   "source": [
    "Realization for Topologic Sort with input data as Adjacency matrix:"
   ]
  },
  {
   "cell_type": "code",
   "execution_count": 113,
   "metadata": {},
   "outputs": [],
   "source": [
    "class Graph_matrix:\n",
    "    def __init__(self, adj_matrix):\n",
    "        self.graph = adj_matrix\n",
    "        self.count = range(len(self.graph))\n",
    "\n",
    "    def TopologicalSort(self):\n",
    "        top_order =[]\n",
    "        workArray = []\n",
    "        for i in self.count: \n",
    "            step=0\n",
    "            for j in self.count:\n",
    "                if self.graph[i][j]==1:step+=1\n",
    "            workArray.insert(i,step)\n",
    "        completedCounter = 0\n",
    "        currentLevel = 0\n",
    "        while (completedCounter != len(self.graph)):\n",
    "            for i in self.count:\n",
    "                if (workArray[i] == 0):\n",
    "                    ind=0\n",
    "                    top_order.insert(completedCounter,i)\n",
    "                    for node in self.graph:\n",
    "                        if node[i]==1:\n",
    "                            workArray[ind]-=1\n",
    "                        ind+=1\n",
    "\n",
    "                    workArray[i] = -1\n",
    "                    completedCounter+=1\n",
    "            currentLevel+=1\n",
    "        return top_order"
   ]
  },
  {
   "cell_type": "code",
   "execution_count": 114,
   "metadata": {},
   "outputs": [
    {
     "data": {
      "text/plain": [
       "[2, 3, 0, 1]"
      ]
     },
     "execution_count": 114,
     "metadata": {},
     "output_type": "execute_result"
    }
   ],
   "source": [
    "#edges\n",
    "#(2, 3) \n",
    "#(3, 0) \n",
    "#(3, 1) \n",
    "#(2, 0)\n",
    "g = Graph_matrix([[0,0,1,1],\n",
    "                  [0,0,0,1],\n",
    "                  [0,0,0,0],\n",
    "                  [0,0,1,0]])\n",
    "g.TopologicalSort()"
   ]
  },
  {
   "cell_type": "markdown",
   "metadata": {},
   "source": [
    "If a directed acyclic graph with the set $V$ of vertices and the set E of edges is represented as adjecency matrix, so then realization would require $|V|^2$ steps,because we define every relation between edges. So the whole algorithm will execute in $O(|V|^2)$"
   ]
  },
  {
   "cell_type": "markdown",
   "metadata": {},
   "source": [
    "### Task 4\n",
    "\n",
    "Let us consider a binary relation on $Z^2$:\n",
    "$$ R(x_1,y_1)R(x_2,y_2)\\leftrightarrow x_1\\leq x_2, y_1\\leq y_2$$\n",
    "Find minimal and maximal elements if R is defined on following sets:\n",
    "1. $A_1 = \\{(x,y)|x\\leq 3, y\\leq 4\\}$\n",
    "2. $A_2 = \\{(x,y)|x^2+y^2 \\leq 4\\}$"
   ]
  },
  {
   "cell_type": "markdown",
   "metadata": {},
   "source": [
    "### Solution\n",
    "Let's check if $R$ is a partial order on $\\mathbb{Z}^2$:\n",
    "\n",
    "$1.$ reflexivity $\\forall x: xRx$ :\n",
    "$$ \\begin{cases}\n",
    "               x \\leq x \\\\\n",
    "               y \\leq y\n",
    "            \\end{cases}  \\Rightarrow  (x,y)R(x,y)\n",
    "$$\n",
    "            \n",
    "$2.$ antisymmetricity: $\\forall x,y: xRy \\wedge yRx \\Rightarrow x = y $ :\n",
    "$$  \\begin{cases}\n",
    "               (x_1, y_1)R(x_2, y_2) \\\\\n",
    "               (x_2, y_2)R(x_1, y_1)\n",
    "            \\end{cases} \\iff \\begin{cases}\n",
    "               x_1 \\leq x_2 \\leq x_1 \\\\\n",
    "               y_1 \\leq y_2 \\leq y_1\n",
    "            \\end{cases} \\iff \\begin{cases}\n",
    "               x_1 = x_2  \\\\\n",
    "               y_1 = y_2 \n",
    "            \\end{cases} \\iff (x_1, y_1) = (x_1, y_2)\n",
    "$$\n",
    "\n",
    "$3.$ transitivity:  $\\forall x,y,z: xRy \\wedge yRz \\Rightarrow xRz $\n",
    "\n",
    "$$  \\begin{cases}\n",
    "               (x_1, y_1)R(x_2, y_2) \\\\\n",
    "               (x_2, y_2)R(x_3, y_3)\n",
    "            \\end{cases} \\iff \\begin{cases}\n",
    "               x_1 \\leq x_2 \\leq x_3 \\\\\n",
    "               y_1 \\leq y_2 \\leq y_3\n",
    "            \\end{cases} \\iff \\begin{cases}\n",
    "               x_1 \\leq x_3  \\\\\n",
    "               y_1 \\leq y_3 \n",
    "            \\end{cases} \\iff (x_1, y_1)R(x_3, y_3)\n",
    "$$\n",
    "\n",
    "Let's find minimal and maximal element \n",
    "\n",
    "$(3, 4)$ is obviously maximal element of $A_1$ (by definition partial order $R$). \n",
    "\n",
    "There are no minimal element in the set. Assume, $a = (x_1, y_1)$ is the minimal element in $A_1$. But there are $(x_1-1, y_1)Ra$, so a is not the minimal element\n",
    "\n",
    "$ A_2 = {(−2,0), (−1, −1), (−1,0), (−1,1), (0, −2), (0, −1), (0,0), (0,1), (0,2), (1, −1), (1,0), (1,1), (2,0)} $\n",
    "Maximal elements are ${(0,2), (1,1), (2,0)}$\n",
    "Minimal elements are ${(0,-2), (-1,-1), (-2,0)}$\n",
    "\n",
    "For $A_1$ maximum is $(3, 4)$, no minimal elements exists.\n",
    "\n",
    "For $A_2$ maximum elements are ${(0,2), (1,1), (2,0)}$, minimals elements are ${(0,-2), (-1,-1), (-2,0)}$."
   ]
  },
  {
   "cell_type": "markdown",
   "metadata": {},
   "source": [
    "### Task 5\n",
    "Which of the following figures represent a lattice? Why?  \n",
    "Are there any complete lattices?\n",
    "![alt text](lattice.png)"
   ]
  },
  {
   "cell_type": "markdown",
   "metadata": {},
   "source": [
    "### Solution\n",
    "By definition of lattice it consists of a partially ordered set in which every two elements have a **unique** supremum and a **unique** infimum.\n",
    "1) **No**: no supremum for a and b, because ${c,d,e}$ are supremums for $a$ and $b$, but $c$ and $d$ are incomparable, and so for other pairs of elements.\n",
    "![alt text](1lattice.png)  \n",
    "2) **Yes**: every two elements have a **unique** supremum and a **unique** infimum.  \n",
    "3) **Yes**: every two elements have a **unique** supremum and a **unique** infimum.  \n",
    "4) **Yes**: every two elements have a **unique** supremum and a **unique** infimum.  \n",
    "5) **No**:  no supremum for two elements ${a,b}$\n",
    "![alt text](5lattice.png)\n",
    "\n",
    "Lattices 2,3,4 are complete lattices because of their finitness. "
   ]
  },
  {
   "cell_type": "markdown",
   "metadata": {},
   "source": [
    "### Task 6\n",
    "Let $(L, \\leq)$ be a lattice with infimum and sumpremum defined as usual.\n",
    "Prove that for any $x,y \\in L$\n",
    "1. $x \\vee x = x$\n",
    "2. $x \\vee (x \\wedge y)=x$\n",
    "3. $x \\vee y = y \\vee x$"
   ]
  },
  {
   "cell_type": "markdown",
   "metadata": {},
   "source": [
    "### Solution\n",
    "1. By definition, $x \\vee x = sup(x)=\\hat{x} \\in L$ such that $x \\leq \\hat{x}$ and $\\forall l \\in L x \\leq l$ implies that $\\hat{x} \\leq l$. Since $L$ is partially ordered, we know that $x \\leq x$, but by definition of supremum $\\hat{x} \\leq x$. But we assumed that $x \\leq \\hat{x}$ is antisymmetric, it follows that $x = \\hat{x}=x\\vee x$\n",
    "2. $x \\vee (x \\wedge y)=sup(x,inf(x,y))=sup(x,a)=b$, where \n",
    "    - $a \\leq x, a \\leq y$\n",
    "    - $b \\geq x, b \\geq a$  \n",
    "Suppose, that $b = x$. \n",
    "Then, $x \\geq x, x \\geq a$. It satisfies the first part.  \n",
    "And suppose there is another $\\hat{b}$ that $\\hat{b} \\geq x, \\hat{b} \\geq a$. Then $x \\geq \\hat{b}$. Due to antisymmetry,\n",
    "$$((x \\geq \\hat{b}) \\wedge (\\hat{b} \\geq x)) \\rightarrow (\\hat{b}=x) \\rightarrow  x=sup(x,a)=sup(x,inf(x,y))= x \\vee (x \\wedge y)$$\n",
    "3. By definition $x \\vee y = a$ and $y \\vee x = b$ and $a \\geq x$,$a\\geq y$. $b \\geq x$ and $b\\geq y$. Let's pretend that $a>b$, it contradicts the definition of supremum of two elements in lattice. So $b>a$ is. That means, that $a=b \\rightarrow x \\vee y = y \\vee x$ "
   ]
  }
 ],
 "metadata": {
  "kernelspec": {
   "display_name": "Python 3",
   "language": "python",
   "name": "python3"
  },
  "language_info": {
   "codemirror_mode": {
    "name": "ipython",
    "version": 3
   },
   "file_extension": ".py",
   "mimetype": "text/x-python",
   "name": "python",
   "nbconvert_exporter": "python",
   "pygments_lexer": "ipython3",
   "version": "3.8.5"
  }
 },
 "nbformat": 4,
 "nbformat_minor": 1
}